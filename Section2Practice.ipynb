{
 "cells": [
  {
   "cell_type": "markdown",
   "metadata": {
    "collapsed": false
   },
   "source": [
    "# Practice\n",
    "\n",
    "Here are some additional practice and examples for you to try out!"
   ]
  },
  {
   "cell_type": "markdown",
   "metadata": {
    "collapsed": false
   },
   "source": [
    "1) For this question you will practice creating variables that contain expressions. You will need to create 4 variables:\n",
    "    - store a temperature value in Fahrenheit as a variable\n",
    "    - store in another variable the conversion expression/equation from Fahrenheit to Celsius\n",
    "    - store in another variable the conversion from  Celsius to Kelvin\n",
    "    - store in another variable the conversion from Fahrenheit to Kelvin\n",
    "    \n",
    "You can find the conversions here: https://byjus.com/temperature-conversion-formula/"
   ]
  },
  {
   "cell_type": "code",
   "execution_count": 0,
   "metadata": {
    "collapsed": false
   },
   "outputs": [
   ],
   "source": [
   ]
  },
  {
   "cell_type": "markdown",
   "metadata": {
    "collapsed": false
   },
   "source": [
    "2) "
   ]
  },
  {
   "cell_type": "code",
   "execution_count": 0,
   "metadata": {
    "collapsed": false
   },
   "outputs": [
   ],
   "source": [
   ]
  },
  {
   "cell_type": "code",
   "execution_count": 0,
   "metadata": {
    "collapsed": false
   },
   "outputs": [
   ],
   "source": [
   ]
  }
 ],
 "metadata": {
  "kernelspec": {
   "display_name": "R (system-wide)",
   "language": "r",
   "metadata": {
    "cocalc": {
     "description": "R statistical programming language",
     "priority": 10,
     "url": "https://www.r-project.org/"
    }
   },
   "name": "ir",
   "resource_dir": "/ext/jupyter/kernels/ir"
  }
 },
 "nbformat": 4,
 "nbformat_minor": 4
}