{
 "cells": [
  {
   "cell_type": "markdown",
   "id": "ordered-video",
   "metadata": {},
   "source": [
    "# Introduction\n",
    "\n",
    "Welcome to the [SURGE](https://surgeinnovation.ca) Discover Coding R workshop! This workshop is aimed at people from science disciplines who have no previous experience with a programming language. We teach the basic of coding using R, a very popular language used in science and data science. If you have programmed before, but are new to R, you will also find this workshop useful, if perhaps a bit slow at times. \n",
    "\n",
    "## Our Approach\n",
    "\n",
    "This is not an introduction to computer science. The SURGE Discover Coding series aims to teach people working in science how to use R as a tool for working with data. As such, our focus is on:\n",
    "- learning the fundamentals of R\n",
    "- learning the fundamentals of programming logic\n",
    "- using R for data science, including:\n",
    "    - reading data\n",
    "    - manipulating/processing data (e.g., extracting specific data, splitting data according to variables, applying functions, combining data)\n",
    "    - exploratory data analysis\n",
    "    - basic statistical analyses of data sets"
   ]
  },
  {
   "cell_type": "markdown",
   "id": "liable-medline",
   "metadata": {},
   "source": [
    "## Learning Objectives\n",
    "\n",
    "Upon completing this workshop, you will be able to:\n",
    "- understand and use variables\n",
    "- work with common R data types like integers, floats, strings, characters, lists, dictionaries, as well as NumPy arrays and Pandas DataFrames.\n",
    "- read data from text files\n",
    "- obtain basic summary statistics from data files\n",
    "- manipulate and extract data from pandas DataFrames\n",
    "- visualize data using R's Matplotlib package, and customize these plots\n",
    "- use basic flow control, including for loops and conditionals\n",
    "- write R code according to standard style guidelines"
   ]
  },
  {
   "cell_type": "markdown",
   "id": "cordless-atlantic",
   "metadata": {},
   "source": [
    "---\n",
    "## SURGE Statement of Inclusion \n",
    "We believe that processes of innovation and entrepreneurship are among the most powerful human tools, and that they can empower people to effect positive change in the world. Our work is founded on the belief that teaching these tools to scientists holds humanity’s best hopes for the future. At the same time, we recognize that history has not created a level playing field for everyone when it comes to opportunities in science, technology, and entrepreneurship. So, beyond programming for a broad audience, we aim to develop programs to help encourage and support traditionally under-represented groups, including (but not limited to) Indigenous people, African Nova Scotians, people identifying as LGBTQ2+, and women. SURGE is a safe space where everyone should feel welcome and included, free to pursue opportunities, and free express divergent opinions in the spirit of productive academic exchange.\n",
    "\n",
    "## Recognition of Mi’kmaq Territory\n",
    "\n",
    "Dalhousie University is located in Mi’kma’ki, the ancestral and unceded territory of the Mi’kmaq. We are all Treaty people. The Elders in Residence program provides students with access to First Nations elders for guidance, counsel and support. Visit the Indigenous Student Centre or contact the programs at elders@dal.ca.\n",
    "\n",
    "## Diversity and Inclusion – Culture of Respect\n",
    "\n",
    "Every person at Dalhousie has a right to be respected and safe. We believe inclusiveness is fundamental to education. We stand for equality. Dalhousie is strengthened in our diversity. We are a respectful and inclusive community. \n",
    "\n",
    "## Code of Conduct\n",
    "\n",
    "SURGE Discover Coding workshops adhere to [Dalhousie University's Code fo Student Conduct](https://www.dal.ca/dept/university_secretariat/policies/student-life/code-of-student-conduct.html) as well as the [Carpentries' Code of Conduct](https://docs.carpentries.org/topic_folders/policies/code-of-conduct.html). We are dedicated to providing a welcoming and supportive environment for all people, regardless of background or identity. By participating in this community, participants accept to abide by The Carpentries’ Code of Conduct and accept the procedures by which any Code of Conduct incidents are resolved. Any form of behaviour to exclude, intimidate, or cause discomfort is a violation of the Code of Conduct. In order to foster a positive and professional learning environment we encourage the following kinds of behaviours in all platforms and events:\n",
    "- Use welcoming and inclusive language\n",
    "- Be respectful of different viewpoints and experiences\n",
    "- Gracefully accept constructive criticism\n",
    "- Focus on what is best for the community\n",
    "- Show courtesy and respect towards other community members\n",
    "\n",
    "If you believe someone is violating the Code of Conduct, please bring this to the attention of the teaching team for your workshop, or contact [SURGE@dal.ca](mailto:surge@dal.ca). If you have concerns about a member of the teaching team, please contact [SURGE@dal.ca](mailto:surge@dal.ca)."
   ]
  },
  {
   "cell_type": "markdown",
   "id": "united-indication",
   "metadata": {},
   "source": [
    "## Requirements\n",
    "\n",
    "To participate in this workshop, you will need an internet-connected computer. We will use a cloud-based resource ([CoCalc](https://cocalc.com)) for all of the programming. This means that there is no software to install on your computer — all of your coding will be through a web browser. When you register for a workshop, you will receive instructions to create an account on CoCalc. Please do this *before* the start of the workshop to avoid delays. Then at the start of the workshop, attendees' CoCalc accounts will be updagraded to a paid version for the duration of the workshop. "
   ]
  },
  {
   "cell_type": "markdown",
   "id": "metallic-photography",
   "metadata": {},
   "source": [
    "---\n",
    "\n",
    "## Origins of this Material\n",
    "\n",
    "This workshop is adapted by one created by the [Library Carpentry](https://librarycarpentry.org/lc-r/) foundation.\n",
    "\n",
    "While we could introduce R with virtually any data. We have adapted the Library Carpentry (LC) version of the workshop based on experience teaching it, and finding that some parts of the LC workshop were unclear, or assumed certain background knowledge (particularly mathematics) that was not universally held by our target audience, or that concepts in the LC workshop were presented in a sequence that was not intuitive to us. We have great respect for the LC organization and its aims, and indeed most members of the SURGE Discover Coding teaching team are SC-certified instructors. Adapting and customizing the workshop is in the spirit of the open source movement and open educational resources, which SURGE wholeheartedly supports."
   ]
  },
  {
   "cell_type": "markdown",
   "id": "interesting-consequence",
   "metadata": {},
   "source": [
    "---\n",
    "Licensed under [CC-BY 4.0](https://creativecommons.org/licenses/by/4.0/) 2021 by [SURGE](https://github.com/surge-dalhousie)"
   ]
  }
 ],
 "metadata": {
  "kernelspec": {
   "display_name": "R 3",
   "language": "R",
   "name": "R3"
  },
  "language_info": {
   "codemirror_mode": {
    "name": "iR",
    "version": 3
   },
   "file_extension": ".py",
   "mimetype": "text/x-R",
   "name": "R",
   "nbconvert_exporter": "R",
   "pygments_lexer": "iR3",
   "version": "3.8.5"
  }
 },
 "nbformat": 4,
 "nbformat_minor": 5
}
