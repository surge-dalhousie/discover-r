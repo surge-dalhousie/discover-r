{
 "cells": [
  {
   "cell_type": "markdown",
   "metadata": {
    "collapsed": false
   },
   "source": [
    "## Data Cleaning & Tranformation\n",
    "\n"
   ]
  },
  {
   "cell_type": "code",
   "execution_count": 1,
   "metadata": {
    "collapsed": false
   },
   "outputs": [
   ],
   "source": [
    "library(fs)"
   ]
  },
  {
   "cell_type": "markdown",
   "metadata": {
    "collapsed": false
   },
   "source": [
    "### Load the `tidyverse` and data frame into your R session"
   ]
  },
  {
   "cell_type": "code",
   "execution_count": 2,
   "metadata": {
    "collapsed": false
   },
   "outputs": [
    {
     "name": "stderr",
     "output_type": "stream",
     "text": [
      "Warning message in system(\"timedatectl\", intern = TRUE):\n",
      "“running command 'timedatectl' had status 1”\n"
     ]
    },
    {
     "name": "stderr",
     "output_type": "stream",
     "text": [
      "── \u001b[1mAttaching packages\u001b[22m ─────────────────────────────────────── tidyverse 1.3.1 ──\n",
      "\n"
     ]
    },
    {
     "name": "stderr",
     "output_type": "stream",
     "text": [
      "\u001b[32m✔\u001b[39m \u001b[34mggplot2\u001b[39m 3.3.3     \u001b[32m✔\u001b[39m \u001b[34mpurrr  \u001b[39m 0.3.4\n",
      "\u001b[32m✔\u001b[39m \u001b[34mtibble \u001b[39m 3.1.1     \u001b[32m✔\u001b[39m \u001b[34mdplyr  \u001b[39m 1.0.5\n",
      "\u001b[32m✔\u001b[39m \u001b[34mtidyr  \u001b[39m 1.1.3     \u001b[32m✔\u001b[39m \u001b[34mstringr\u001b[39m 1.4.0\n",
      "\u001b[32m✔\u001b[39m \u001b[34mreadr  \u001b[39m 1.4.0     \u001b[32m✔\u001b[39m \u001b[34mforcats\u001b[39m 0.5.1\n",
      "\n"
     ]
    },
    {
     "name": "stderr",
     "output_type": "stream",
     "text": [
      "── \u001b[1mConflicts\u001b[22m ────────────────────────────────────────── tidyverse_conflicts() ──\n",
      "\u001b[31m✖\u001b[39m \u001b[34mdplyr\u001b[39m::\u001b[32mfilter()\u001b[39m masks \u001b[34mstats\u001b[39m::filter()\n",
      "\u001b[31m✖\u001b[39m \u001b[34mdplyr\u001b[39m::\u001b[32mlag()\u001b[39m    masks \u001b[34mstats\u001b[39m::lag()\n",
      "\n"
     ]
    }
   ],
   "source": [
    "library(tidyverse)"
   ]
  },
  {
   "cell_type": "code",
   "execution_count": 3,
   "metadata": {
    "collapsed": false
   },
   "outputs": [
    {
     "name": "stderr",
     "output_type": "stream",
     "text": [
      "\n",
      "\u001b[36m──\u001b[39m \u001b[1m\u001b[1mColumn specification\u001b[1m\u001b[22m \u001b[36m────────────────────────────────────────────────────────\u001b[39m\n",
      "cols(\n",
      "  CALL...BIBLIO. = \u001b[31mcol_character()\u001b[39m,\n",
      "  X245.ab = \u001b[31mcol_character()\u001b[39m,\n",
      "  X245.c = \u001b[31mcol_character()\u001b[39m,\n",
      "  LOCATION = \u001b[31mcol_character()\u001b[39m,\n",
      "  TOT.CHKOUT = \u001b[32mcol_double()\u001b[39m,\n",
      "  LOUTDATE = \u001b[31mcol_character()\u001b[39m,\n",
      "  SUBJECT = \u001b[31mcol_character()\u001b[39m,\n",
      "  ISN = \u001b[31mcol_character()\u001b[39m,\n",
      "  CALL...ITEM. = \u001b[31mcol_character()\u001b[39m,\n",
      "  X008.Date.One = \u001b[31mcol_character()\u001b[39m,\n",
      "  BCODE2 = \u001b[31mcol_character()\u001b[39m,\n",
      "  BCODE1 = \u001b[31mcol_character()\u001b[39m\n",
      ")\n",
      "\n",
      "\n"
     ]
    }
   ],
   "source": [
    "books <- read_csv(\"data/books.csv\")  # load the data and assign it to books"
   ]
  },
  {
   "cell_type": "markdown",
   "metadata": {
    "collapsed": false
   },
   "source": [
    "### Transforming data with `dplyr`\n",
    "\n",
    "We are now entering the data cleaning and transforming phase. While it is possible to do much of the following using Base R functions (in other words, without loading an external package) `dplyr` makes it much easier. Like many of the most useful R packages, `dplyr` was developed by data scientist http://hadley.nz/.\n",
    "\n",
    "`dplyr` is a package for making tabular data manipulation easier by using a limited set of functions that can be combined to extract and summarize insights from your data. It pairs nicely with `tidyr` which enables you to swiftly convert between different data formats (long vs. wide) for plotting and analysis.\n",
    "\n",
    "`dplyr` is also part of the `tidyverse`. Let’s make sure we are all on the same page by loading the `tidyverse` and the `books` dataset we downloaded earlier.\n",
    "\n",
    "We’re going to learn some of the most common `dplyr` functions:\n",
    "\n",
    "- `rename()`: rename columns\n",
    "- `recode()`: recode values in a column\n",
    "- `select()`: subset columns\n",
    "- `filter()`: subset rows on conditions\n",
    "- `mutate()`: create new columns by using information from other columns\n",
    "- `group_by()` and `summarize()`: create summary statistics on grouped data\n",
    "- `arrange()`: sort results\n",
    "- `count()`: count discrete values"
   ]
  },
  {
   "cell_type": "markdown",
   "metadata": {
    "collapsed": false
   },
   "source": [
    "### Renaming variables\n",
    "\n",
    "It is often necessary to rename variables to make them more meaningful. If you print the names of the sample `books` dataset you can see that some of the vector names are not particularly helpful:"
   ]
  },
  {
   "cell_type": "code",
   "execution_count": 4,
   "metadata": {
    "collapsed": false
   },
   "outputs": [
    {
     "name": "stdout",
     "output_type": "stream",
     "text": [
      "Rows: 10,000\n",
      "Columns: 12\n",
      "$ CALL...BIBLIO. \u001b[3m\u001b[90m<chr>\u001b[39m\u001b[23m \"001.94 Don 2000\", \"001.942 Bro 1999\", \"027.073 App 200…\n",
      "$ X245.ab        \u001b[3m\u001b[90m<chr>\u001b[39m\u001b[23m \"Bermuda Triangle /\", \"Invaders from outer space :|real…\n",
      "$ X245.c         \u001b[3m\u001b[90m<chr>\u001b[39m\u001b[23m \"written by Andrew Donkin.\", \"written by Philip Brooks.…\n",
      "$ LOCATION       \u001b[3m\u001b[90m<chr>\u001b[39m\u001b[23m \"juv\", \"juv\", \"juv\", \"juv\", \"juv\", \"juv\", \"juv\", \"juv\",…\n",
      "$ TOT.CHKOUT     \u001b[3m\u001b[90m<dbl>\u001b[39m\u001b[23m 6, 2, 3, 6, 7, 6, 4, 2, 4, 13, 6, 7, 3, 22, 2, 9, 4, 8,…\n",
      "$ LOUTDATE       \u001b[3m\u001b[90m<chr>\u001b[39m\u001b[23m \"11-21-2013 9:44\", \"02-07-2004 15:29\", \"10-16-2007 10:5…\n",
      "$ SUBJECT        \u001b[3m\u001b[90m<chr>\u001b[39m\u001b[23m \"Readers (Elementary)|Bermuda Triangle -- Juvenile lite…\n",
      "$ ISN            \u001b[3m\u001b[90m<chr>\u001b[39m\u001b[23m \"0789454165 (hbk.)~0789454157 (pbk.)\", \"0789439999 (har…\n",
      "$ CALL...ITEM.   \u001b[3m\u001b[90m<chr>\u001b[39m\u001b[23m \"001.94 Don 2000\", \"001.942 Bro 1999\", \"027.073 App 200…\n",
      "$ X008.Date.One  \u001b[3m\u001b[90m<chr>\u001b[39m\u001b[23m \"2000\", \"1999\", \"2001\", \"1999\", \"2000\", \"2001\", \"2001\",…\n",
      "$ BCODE2         \u001b[3m\u001b[90m<chr>\u001b[39m\u001b[23m \"a\", \"a\", \"a\", \"a\", \"a\", \"a\", \"a\", \"a\", \"a\", \"a\", \"a\", …\n",
      "$ BCODE1         \u001b[3m\u001b[90m<chr>\u001b[39m\u001b[23m \"j\", \"j\", \"j\", \"j\", \"j\", \"j\", \"j\", \"j\", \"j\", \"j\", \"j\", …\n"
     ]
    }
   ],
   "source": [
    "glimpse(books)"
   ]
  },
  {
   "cell_type": "markdown",
   "metadata": {
    "collapsed": false
   },
   "source": [
    "There are many ways to rename variables in R, but the `rename()` function in the `dplyr` package is the easiest and most straightforward. The new variable name comes first. See `help(rename)`.\n",
    "\n",
    "Here we rename the X245.ab variable. Make sure you assign the output to your `books` value, otherwise it will just print it to the console. In other words, we are overwritting the previous `books` value with the new one, with `X245.ab` changed to `title`"
   ]
  },
  {
   "cell_type": "code",
   "execution_count": 5,
   "metadata": {
    "collapsed": false
   },
   "outputs": [
   ],
   "source": [
    "# rename the . Make sure you return (<-) the output to your \n",
    "# variable, otherwise it will just print it to the console\n",
    "books <- rename(books,\n",
    "                title = X245.ab)"
   ]
  },
  {
   "cell_type": "markdown",
   "metadata": {
    "collapsed": false
   },
   "source": [
    "#### Side note:\n",
    "\n",
    "Where does `X245.ab` come from? That is the MARC field 245|ab. However, because R variables cannot start with a number, R automatically inserted and X, and because pipes | are not allowed in variable names, R replaced it with a period."
   ]
  },
  {
   "cell_type": "code",
   "execution_count": 6,
   "metadata": {
    "collapsed": false,
    "scrolled": true
   },
   "outputs": [
    {
     "name": "stderr",
     "output_type": "stream",
     "text": [
      "WARNING: Some output was deleted.\n"
     ]
    }
   ],
   "source": [
    "# rename multiple variables at once\n",
    "books <- rename(books,\n",
    "                author = X245.c,\n",
    "                callnumber = CALL...BIBLIO.,\n",
    "                isbn = ISN,\n",
    "                pubyear = X008.Date.One,\n",
    "                subCollection = BCODE1,\n",
    "                format = BCODE2,\n",
    "                location = LOCATION,\n",
    "                tot_chkout = TOT.CHKOUT,\n",
    "                loutdate = LOUTDATE,\n",
    "                subject = SUBJECT)\n",
    "books"
   ]
  },
  {
   "cell_type": "markdown",
   "metadata": {
    "collapsed": false
   },
   "source": [
    "#### Exercise: Rename `CALL...ITEM.`\n",
    "\n",
    "- Use rename() to rename the CALL...ITEM. column to callnumber2. Remember to add the period to the end of the CALL...ITEM. value"
   ]
  },
  {
   "cell_type": "code",
   "execution_count": 0,
   "metadata": {
    "collapsed": false
   },
   "outputs": [
   ],
   "source": [
   ]
  },
  {
   "cell_type": "markdown",
   "metadata": {
    "collapsed": false
   },
   "source": [
    "### Recoding values\n",
    "\n",
    "It is often necessary to recode or reclassify values in your data. For example, in the sample dataset provided to you, the `sub_collection` (formerly `BCODE1`) and `format` (formerly `BCODE2`) variables contain single characters. You can do this easily using the `recode()` function, also in the `dplyr` package. Unlike `rename()`, the old value comes first here. Also notice that we are overwriting the `books$subCollection` variable."
   ]
  },
  {
   "cell_type": "code",
   "execution_count": 7,
   "metadata": {
    "collapsed": false
   },
   "outputs": [
    {
     "data": {
      "text/html": [
       "<table class=\"dataframe\">\n",
       "<caption>A tibble: 10 × 1</caption>\n",
       "<thead>\n",
       "\t<tr><th scope=col>subCollection</th></tr>\n",
       "\t<tr><th scope=col>&lt;chr&gt;</th></tr>\n",
       "</thead>\n",
       "<tbody>\n",
       "\t<tr><td>j</td></tr>\n",
       "\t<tr><td>b</td></tr>\n",
       "\t<tr><td>u</td></tr>\n",
       "\t<tr><td>r</td></tr>\n",
       "\t<tr><td>-</td></tr>\n",
       "\t<tr><td>s</td></tr>\n",
       "\t<tr><td>c</td></tr>\n",
       "\t<tr><td>z</td></tr>\n",
       "\t<tr><td>a</td></tr>\n",
       "\t<tr><td>t</td></tr>\n",
       "</tbody>\n",
       "</table>\n"
      ],
      "text/latex": [
       "A tibble: 10 × 1\n",
       "\\begin{tabular}{l}\n",
       " subCollection\\\\\n",
       " <chr>\\\\\n",
       "\\hline\n",
       "\t j\\\\\n",
       "\t b\\\\\n",
       "\t u\\\\\n",
       "\t r\\\\\n",
       "\t -\\\\\n",
       "\t s\\\\\n",
       "\t c\\\\\n",
       "\t z\\\\\n",
       "\t a\\\\\n",
       "\t t\\\\\n",
       "\\end{tabular}\n"
      ],
      "text/markdown": [
       "\n",
       "A tibble: 10 × 1\n",
       "\n",
       "| subCollection &lt;chr&gt; |\n",
       "|---|\n",
       "| j |\n",
       "| b |\n",
       "| u |\n",
       "| r |\n",
       "| - |\n",
       "| s |\n",
       "| c |\n",
       "| z |\n",
       "| a |\n",
       "| t |\n",
       "\n"
      ],
      "text/plain": [
       "   subCollection\n",
       "1  j            \n",
       "2  b            \n",
       "3  u            \n",
       "4  r            \n",
       "5  -            \n",
       "6  s            \n",
       "7  c            \n",
       "8  z            \n",
       "9  a            \n",
       "10 t            "
      ]
     },
     "execution_count": 7,
     "metadata": {
     },
     "output_type": "execute_result"
    }
   ],
   "source": [
    "# first print to the console all of the unique values you will need to recode\n",
    "distinct(books, subCollection)"
   ]
  },
  {
   "cell_type": "code",
   "execution_count": 8,
   "metadata": {
    "collapsed": false
   },
   "outputs": [
    {
     "name": "stderr",
     "output_type": "stream",
     "text": [
      "WARNING: Some output was deleted.\n"
     ]
    }
   ],
   "source": [
    "books$subCollection <- recode(books$subCollection,\n",
    "                                      \"-\" = \"general collection\",\n",
    "                                      u = \"government documents\",\n",
    "                                      r = \"reference\",\n",
    "                                      b = \"k-12 materials\",\n",
    "                                      j = \"juvenile\",\n",
    "                                      s = \"special collections\",\n",
    "                                      c = \"computer files\",\n",
    "                                      t = \"theses\",\n",
    "                                      a = \"archives\",\n",
    "                                      z = \"reserves\")\n",
    "books"
   ]
  },
  {
   "cell_type": "markdown",
   "metadata": {
    "collapsed": false
   },
   "source": [
    "Do the same for the `format` column. Note that you must put `\"5\"` and `\"4\"` into quotation marks for the function to operate correctly."
   ]
  },
  {
   "cell_type": "code",
   "execution_count": 9,
   "metadata": {
    "collapsed": false
   },
   "outputs": [
   ],
   "source": [
    "books$format <- recode(books$format,\n",
    "                              a = \"book\",\n",
    "                              e = \"serial\",\n",
    "                              w = \"microform\",\n",
    "                              s = \"e-gov doc\",\n",
    "                              o = \"map\",\n",
    "                              n = \"database\",\n",
    "                              k = \"cd-rom\",\n",
    "                              m = \"image\",\n",
    "                              \"5\" = \"kit/object\",\n",
    "                              \"4\" = \"online video\")"
   ]
  },
  {
   "cell_type": "markdown",
   "metadata": {
    "collapsed": false
   },
   "source": [
    "### Subsetting dataframes\n",
    "\n",
    "#### Subsetting using `filter()` in the `dplyr` package\n",
    "\n",
    "In the last lesson we learned how to subset a data frame using brackets. As with other R functions, the `dplyr` package makes it much more straightforward, using the `filter()` function.\n",
    "\n",
    "Here we will create a subset of `books` called `booksOnly`, which includes only those items where the format is books. Notice that we use two equal signs `==` as the logical operator:"
   ]
  },
  {
   "cell_type": "code",
   "execution_count": 10,
   "metadata": {
    "collapsed": false
   },
   "outputs": [
   ],
   "source": [
    "booksOnly <- filter(books, format == \"book\") # filter books to return only those items where the format is books"
   ]
  },
  {
   "cell_type": "markdown",
   "metadata": {
    "collapsed": false
   },
   "source": [
    "You can also use multiple filter conditions. Here, the order matters: first we filter to include only books, then of the results, we include only items that have more than zero checkouts."
   ]
  },
  {
   "cell_type": "code",
   "execution_count": 11,
   "metadata": {
    "collapsed": false
   },
   "outputs": [
   ],
   "source": [
    "bookCheckouts <- filter(books,\n",
    "                        format == \"book\",\n",
    "                        tot_chkout > 0)"
   ]
  },
  {
   "cell_type": "markdown",
   "metadata": {
    "collapsed": false
   },
   "source": [
    "How many items were removed? You can find out functionally with:"
   ]
  },
  {
   "cell_type": "code",
   "execution_count": 12,
   "metadata": {
    "collapsed": false
   },
   "outputs": [
    {
     "data": {
      "text/html": [
       "5733"
      ],
      "text/latex": [
       "5733"
      ],
      "text/markdown": [
       "5733"
      ],
      "text/plain": [
       "[1] 5733"
      ]
     },
     "execution_count": 12,
     "metadata": {
     },
     "output_type": "execute_result"
    }
   ],
   "source": [
    "nrow(books) - nrow(bookCheckouts)"
   ]
  },
  {
   "cell_type": "markdown",
   "metadata": {
    "collapsed": false
   },
   "source": [
    "You can then check the summary statistics of checkouts for books with more than zero checkouts. Notice how different these numbers are from the previous lesson, when we kept zero in. The median is now 3 and the mean is 5."
   ]
  },
  {
   "cell_type": "code",
   "execution_count": 13,
   "metadata": {
    "collapsed": false
   },
   "outputs": [
    {
     "data": {
      "text/plain": [
       "   Min. 1st Qu.  Median    Mean 3rd Qu.    Max. \n",
       "  1.000   2.000   3.000   5.281   6.000 113.000 "
      ]
     },
     "execution_count": 13,
     "metadata": {
     },
     "output_type": "execute_result"
    }
   ],
   "source": [
    "summary(bookCheckouts$tot_chkout)"
   ]
  },
  {
   "cell_type": "markdown",
   "metadata": {
    "collapsed": false
   },
   "source": [
    "If you want to filter on multiple conditions within the same variable, use the `%in%` operator combined with a vector of all the values you wish to include within `c()`. For example, you may want to include only items in the format `serial` and `microform`:"
   ]
  },
  {
   "cell_type": "code",
   "execution_count": 14,
   "metadata": {
    "collapsed": false
   },
   "outputs": [
   ],
   "source": [
    "serial_microform <- filter(books, format %in% c(\"serial\", \"microform\"))"
   ]
  },
  {
   "cell_type": "markdown",
   "metadata": {
    "collapsed": false
   },
   "source": [
    "#### Exercise: Filtering with `filter()`\n",
    "- Use `filter()` to create a data frame called `booksJuv` consisting of `format` books and `subCollection` juvenile materials.\n",
    "- Use `mean()` to check the average number of checkouts for the `booksJuv` data frame"
   ]
  },
  {
   "cell_type": "markdown",
   "metadata": {
    "collapsed": false
   },
   "source": [
    "### Selecting variables\n",
    "\n",
    "The `select()` function allows you to keep or remove specific columns. It also provides a convenient way to reorder variables."
   ]
  },
  {
   "cell_type": "code",
   "execution_count": 15,
   "metadata": {
    "collapsed": false
   },
   "outputs": [
    {
     "data": {
      "text/html": [
       "<table class=\"dataframe\">\n",
       "<caption>A tibble: 10000 × 2</caption>\n",
       "<thead>\n",
       "\t<tr><th scope=col>title</th><th scope=col>tot_chkout</th></tr>\n",
       "\t<tr><th scope=col>&lt;chr&gt;</th><th scope=col>&lt;dbl&gt;</th></tr>\n",
       "</thead>\n",
       "<tbody>\n",
       "\t<tr><td>Bermuda Triangle /                                                                            </td><td> 6</td></tr>\n",
       "\t<tr><td>Invaders from outer space :|real-life stories of UFOs /                                       </td><td> 2</td></tr>\n",
       "\t<tr><td>Down Cut Shin Creek :|the pack horse librarians of Kentucky /                                 </td><td> 3</td></tr>\n",
       "\t<tr><td>The Chinese book of animal powers /                                                           </td><td> 6</td></tr>\n",
       "\t<tr><td>Judge Judy Sheindlin's Win or lose by how you choose! /                                       </td><td> 7</td></tr>\n",
       "\t<tr><td>Judge Judy Sheindlin's You can't judge a book by its cover :|cool rules for school /          </td><td> 6</td></tr>\n",
       "\t<tr><td>A young child's Bible /                                                                       </td><td> 4</td></tr>\n",
       "\t<tr><td>God's Kingdom :|stories from the New Testament /                                              </td><td> 2</td></tr>\n",
       "\t<tr><td>Roman myths /                                                                                 </td><td> 4</td></tr>\n",
       "\t<tr><td>Greek gods and goddesses /                                                                    </td><td>13</td></tr>\n",
       "\t<tr><td>The story of Shabbat /                                                                        </td><td> 6</td></tr>\n",
       "\t<tr><td>On Shabbat /                                                                                  </td><td> 7</td></tr>\n",
       "\t<tr><td>On Purim /                                                                                    </td><td> 3</td></tr>\n",
       "\t<tr><td>Coming to America :|the story of immigration /                                                </td><td>22</td></tr>\n",
       "\t<tr><td>The shared heart :|portraits and stories celebrating lesbian, gay, and bisexual young people /</td><td> 2</td></tr>\n",
       "\t<tr><td>Remember the ladies :|100 great American women /                                              </td><td> 9</td></tr>\n",
       "\t<tr><td>One Belfast boy /                                                                             </td><td> 4</td></tr>\n",
       "\t<tr><td>One boy from Kosovo /                                                                         </td><td> 8</td></tr>\n",
       "\t<tr><td>Slavery :|bondage throughout history /                                                        </td><td> 3</td></tr>\n",
       "\t<tr><td>River town /                                                                                  </td><td> 5</td></tr>\n",
       "\t<tr><td>Kids on strike! /                                                                             </td><td> 9</td></tr>\n",
       "\t<tr><td>A kids' guide to America's Bill of Rights :|curfews, censorship, and the 100-pound giant /    </td><td> 4</td></tr>\n",
       "\t<tr><td>Do you remember the color blue? :|and other questions kids ask about blindness /              </td><td> 5</td></tr>\n",
       "\t<tr><td>The wildlife detectives :|how forensic scientists fight crimes against nature /               </td><td> 2</td></tr>\n",
       "\t<tr><td>The environmental movement :|from its roots to the challenges of a new century /              </td><td> 3</td></tr>\n",
       "\t<tr><td>After the spill :|the Exxon Valdez disaster, then and now /                                   </td><td> 5</td></tr>\n",
       "\t<tr><td>Juvenile crime /                                                                              </td><td> 4</td></tr>\n",
       "\t<tr><td>One-room school /                                                                             </td><td> 6</td></tr>\n",
       "\t<tr><td>Reader's choice :|the books children love to read and teachers love to teach.                 </td><td> 1</td></tr>\n",
       "\t<tr><td>Reader's choice :|the books children love to read and teachers love to teach.                 </td><td> 7</td></tr>\n",
       "\t<tr><td>⋮</td><td>⋮</td></tr>\n",
       "\t<tr><td>Lectura Scott Foresman /                                                                        </td><td> 4</td></tr>\n",
       "\t<tr><td>Employment dispute resolution and worker rights in the changing workplace /                     </td><td> 2</td></tr>\n",
       "\t<tr><td>The best teacher \"stuff\" /                                                                      </td><td> 8</td></tr>\n",
       "\t<tr><td>Rosso in Italy :|the Italian career of Rosso Fiorentino /                                       </td><td> 0</td></tr>\n",
       "\t<tr><td>CL locker keys                                                                                  </td><td>13</td></tr>\n",
       "\t<tr><td>Many peoples, one land :|a guide to new multicultural literature for children and young adults /</td><td> 0</td></tr>\n",
       "\t<tr><td>Conceptual revolutions /                                                                        </td><td> 0</td></tr>\n",
       "\t<tr><td>The journals of gerontology.                                                                    </td><td> 0</td></tr>\n",
       "\t<tr><td>U.S. master tax guide.                                                                          </td><td> 0</td></tr>\n",
       "\t<tr><td>Central business review.                                                                        </td><td> 0</td></tr>\n",
       "\t<tr><td>Steamboat! :|the story of Captain Blanche Leathers /                                            </td><td> 5</td></tr>\n",
       "\t<tr><td>Collections.|a Harcourt reading/language arts program.                                          </td><td>20</td></tr>\n",
       "\t<tr><td>Co-operation in international business :|the use of limited equity arrangements /               </td><td> 0</td></tr>\n",
       "\t<tr><td>McGraw-Hill reading.                                                                            </td><td> 4</td></tr>\n",
       "\t<tr><td>McGraw-Hill lectura /                                                                           </td><td> 2</td></tr>\n",
       "\t<tr><td>Collections :|a Harcourt reading program /                                                      </td><td> 0</td></tr>\n",
       "\t<tr><td>Voz del lector :|los libros que los ninos quieren leer Y los maestros quieren ensenar.          </td><td> 7</td></tr>\n",
       "\t<tr><td>Early supplementary feeding and cognition :|effects over two decades /                          </td><td> 0</td></tr>\n",
       "\t<tr><td>Collections :|a Harcourt reading/language arts program /                                        </td><td>18</td></tr>\n",
       "\t<tr><td>Lectura Scott Foresman /                                                                        </td><td> 3</td></tr>\n",
       "\t<tr><td>McGraw-Hill lectura /                                                                           </td><td> 1</td></tr>\n",
       "\t<tr><td>McGraw-Hill lectura /                                                                           </td><td> 1</td></tr>\n",
       "\t<tr><td>Vamos de fiesta! :|a Harcourt Spanish reading/language arts program /                           </td><td> 0</td></tr>\n",
       "\t<tr><td>Scott Foresman reading /                                                                        </td><td> 4</td></tr>\n",
       "\t<tr><td>Vamos de fiesta! :|a Harcourt Spanish reading/language arts program /                           </td><td> 6</td></tr>\n",
       "\t<tr><td>Population today.                                                                               </td><td> 0</td></tr>\n",
       "\t<tr><td>Practical plays /                                                                               </td><td> 3</td></tr>\n",
       "\t<tr><td><span style=white-space:pre-wrap>Science, technology &amp; human values.                                                             </span></td><td> 0</td></tr>\n",
       "\t<tr><td>CL locker keys                                                                                  </td><td>13</td></tr>\n",
       "\t<tr><td>Vamos de fiesta! :|a Harcourt Spanish reading/language arts program /                           </td><td> 2</td></tr>\n",
       "</tbody>\n",
       "</table>\n"
      ],
      "text/latex": [
       "A tibble: 10000 × 2\n",
       "\\begin{tabular}{ll}\n",
       " title & tot\\_chkout\\\\\n",
       " <chr> & <dbl>\\\\\n",
       "\\hline\n",
       "\t Bermuda Triangle /                                                                             &  6\\\\\n",
       "\t Invaders from outer space :\\textbar{}real-life stories of UFOs /                                        &  2\\\\\n",
       "\t Down Cut Shin Creek :\\textbar{}the pack horse librarians of Kentucky /                                  &  3\\\\\n",
       "\t The Chinese book of animal powers /                                                            &  6\\\\\n",
       "\t Judge Judy Sheindlin's Win or lose by how you choose! /                                        &  7\\\\\n",
       "\t Judge Judy Sheindlin's You can't judge a book by its cover :\\textbar{}cool rules for school /           &  6\\\\\n",
       "\t A young child's Bible /                                                                        &  4\\\\\n",
       "\t God's Kingdom :\\textbar{}stories from the New Testament /                                               &  2\\\\\n",
       "\t Roman myths /                                                                                  &  4\\\\\n",
       "\t Greek gods and goddesses /                                                                     & 13\\\\\n",
       "\t The story of Shabbat /                                                                         &  6\\\\\n",
       "\t On Shabbat /                                                                                   &  7\\\\\n",
       "\t On Purim /                                                                                     &  3\\\\\n",
       "\t Coming to America :\\textbar{}the story of immigration /                                                 & 22\\\\\n",
       "\t The shared heart :\\textbar{}portraits and stories celebrating lesbian, gay, and bisexual young people / &  2\\\\\n",
       "\t Remember the ladies :\\textbar{}100 great American women /                                               &  9\\\\\n",
       "\t One Belfast boy /                                                                              &  4\\\\\n",
       "\t One boy from Kosovo /                                                                          &  8\\\\\n",
       "\t Slavery :\\textbar{}bondage throughout history /                                                         &  3\\\\\n",
       "\t River town /                                                                                   &  5\\\\\n",
       "\t Kids on strike! /                                                                              &  9\\\\\n",
       "\t A kids' guide to America's Bill of Rights :\\textbar{}curfews, censorship, and the 100-pound giant /     &  4\\\\\n",
       "\t Do you remember the color blue? :\\textbar{}and other questions kids ask about blindness /               &  5\\\\\n",
       "\t The wildlife detectives :\\textbar{}how forensic scientists fight crimes against nature /                &  2\\\\\n",
       "\t The environmental movement :\\textbar{}from its roots to the challenges of a new century /               &  3\\\\\n",
       "\t After the spill :\\textbar{}the Exxon Valdez disaster, then and now /                                    &  5\\\\\n",
       "\t Juvenile crime /                                                                               &  4\\\\\n",
       "\t One-room school /                                                                              &  6\\\\\n",
       "\t Reader's choice :\\textbar{}the books children love to read and teachers love to teach.                  &  1\\\\\n",
       "\t Reader's choice :\\textbar{}the books children love to read and teachers love to teach.                  &  7\\\\\n",
       "\t ⋮ & ⋮\\\\\n",
       "\t Lectura Scott Foresman /                                                                         &  4\\\\\n",
       "\t Employment dispute resolution and worker rights in the changing workplace /                      &  2\\\\\n",
       "\t The best teacher \"stuff\" /                                                                       &  8\\\\\n",
       "\t Rosso in Italy :\\textbar{}the Italian career of Rosso Fiorentino /                                        &  0\\\\\n",
       "\t CL locker keys                                                                                   & 13\\\\\n",
       "\t Many peoples, one land :\\textbar{}a guide to new multicultural literature for children and young adults / &  0\\\\\n",
       "\t Conceptual revolutions /                                                                         &  0\\\\\n",
       "\t The journals of gerontology.                                                                     &  0\\\\\n",
       "\t U.S. master tax guide.                                                                           &  0\\\\\n",
       "\t Central business review.                                                                         &  0\\\\\n",
       "\t Steamboat! :\\textbar{}the story of Captain Blanche Leathers /                                             &  5\\\\\n",
       "\t Collections.\\textbar{}a Harcourt reading/language arts program.                                           & 20\\\\\n",
       "\t Co-operation in international business :\\textbar{}the use of limited equity arrangements /                &  0\\\\\n",
       "\t McGraw-Hill reading.                                                                             &  4\\\\\n",
       "\t McGraw-Hill lectura /                                                                            &  2\\\\\n",
       "\t Collections :\\textbar{}a Harcourt reading program /                                                       &  0\\\\\n",
       "\t Voz del lector :\\textbar{}los libros que los ninos quieren leer Y los maestros quieren ensenar.           &  7\\\\\n",
       "\t Early supplementary feeding and cognition :\\textbar{}effects over two decades /                           &  0\\\\\n",
       "\t Collections :\\textbar{}a Harcourt reading/language arts program /                                         & 18\\\\\n",
       "\t Lectura Scott Foresman /                                                                         &  3\\\\\n",
       "\t McGraw-Hill lectura /                                                                            &  1\\\\\n",
       "\t McGraw-Hill lectura /                                                                            &  1\\\\\n",
       "\t Vamos de fiesta! :\\textbar{}a Harcourt Spanish reading/language arts program /                            &  0\\\\\n",
       "\t Scott Foresman reading /                                                                         &  4\\\\\n",
       "\t Vamos de fiesta! :\\textbar{}a Harcourt Spanish reading/language arts program /                            &  6\\\\\n",
       "\t Population today.                                                                                &  0\\\\\n",
       "\t Practical plays /                                                                                &  3\\\\\n",
       "\t Science, technology \\& human values.                                                              &  0\\\\\n",
       "\t CL locker keys                                                                                   & 13\\\\\n",
       "\t Vamos de fiesta! :\\textbar{}a Harcourt Spanish reading/language arts program /                            &  2\\\\\n",
       "\\end{tabular}\n"
      ],
      "text/markdown": [
       "\n",
       "A tibble: 10000 × 2\n",
       "\n",
       "| title &lt;chr&gt; | tot_chkout &lt;dbl&gt; |\n",
       "|---|---|\n",
       "| Bermuda Triangle /                                                                             |  6 |\n",
       "| Invaders from outer space :|real-life stories of UFOs /                                        |  2 |\n",
       "| Down Cut Shin Creek :|the pack horse librarians of Kentucky /                                  |  3 |\n",
       "| The Chinese book of animal powers /                                                            |  6 |\n",
       "| Judge Judy Sheindlin's Win or lose by how you choose! /                                        |  7 |\n",
       "| Judge Judy Sheindlin's You can't judge a book by its cover :|cool rules for school /           |  6 |\n",
       "| A young child's Bible /                                                                        |  4 |\n",
       "| God's Kingdom :|stories from the New Testament /                                               |  2 |\n",
       "| Roman myths /                                                                                  |  4 |\n",
       "| Greek gods and goddesses /                                                                     | 13 |\n",
       "| The story of Shabbat /                                                                         |  6 |\n",
       "| On Shabbat /                                                                                   |  7 |\n",
       "| On Purim /                                                                                     |  3 |\n",
       "| Coming to America :|the story of immigration /                                                 | 22 |\n",
       "| The shared heart :|portraits and stories celebrating lesbian, gay, and bisexual young people / |  2 |\n",
       "| Remember the ladies :|100 great American women /                                               |  9 |\n",
       "| One Belfast boy /                                                                              |  4 |\n",
       "| One boy from Kosovo /                                                                          |  8 |\n",
       "| Slavery :|bondage throughout history /                                                         |  3 |\n",
       "| River town /                                                                                   |  5 |\n",
       "| Kids on strike! /                                                                              |  9 |\n",
       "| A kids' guide to America's Bill of Rights :|curfews, censorship, and the 100-pound giant /     |  4 |\n",
       "| Do you remember the color blue? :|and other questions kids ask about blindness /               |  5 |\n",
       "| The wildlife detectives :|how forensic scientists fight crimes against nature /                |  2 |\n",
       "| The environmental movement :|from its roots to the challenges of a new century /               |  3 |\n",
       "| After the spill :|the Exxon Valdez disaster, then and now /                                    |  5 |\n",
       "| Juvenile crime /                                                                               |  4 |\n",
       "| One-room school /                                                                              |  6 |\n",
       "| Reader's choice :|the books children love to read and teachers love to teach.                  |  1 |\n",
       "| Reader's choice :|the books children love to read and teachers love to teach.                  |  7 |\n",
       "| ⋮ | ⋮ |\n",
       "| Lectura Scott Foresman /                                                                         |  4 |\n",
       "| Employment dispute resolution and worker rights in the changing workplace /                      |  2 |\n",
       "| The best teacher \"stuff\" /                                                                       |  8 |\n",
       "| Rosso in Italy :|the Italian career of Rosso Fiorentino /                                        |  0 |\n",
       "| CL locker keys                                                                                   | 13 |\n",
       "| Many peoples, one land :|a guide to new multicultural literature for children and young adults / |  0 |\n",
       "| Conceptual revolutions /                                                                         |  0 |\n",
       "| The journals of gerontology.                                                                     |  0 |\n",
       "| U.S. master tax guide.                                                                           |  0 |\n",
       "| Central business review.                                                                         |  0 |\n",
       "| Steamboat! :|the story of Captain Blanche Leathers /                                             |  5 |\n",
       "| Collections.|a Harcourt reading/language arts program.                                           | 20 |\n",
       "| Co-operation in international business :|the use of limited equity arrangements /                |  0 |\n",
       "| McGraw-Hill reading.                                                                             |  4 |\n",
       "| McGraw-Hill lectura /                                                                            |  2 |\n",
       "| Collections :|a Harcourt reading program /                                                       |  0 |\n",
       "| Voz del lector :|los libros que los ninos quieren leer Y los maestros quieren ensenar.           |  7 |\n",
       "| Early supplementary feeding and cognition :|effects over two decades /                           |  0 |\n",
       "| Collections :|a Harcourt reading/language arts program /                                         | 18 |\n",
       "| Lectura Scott Foresman /                                                                         |  3 |\n",
       "| McGraw-Hill lectura /                                                                            |  1 |\n",
       "| McGraw-Hill lectura /                                                                            |  1 |\n",
       "| Vamos de fiesta! :|a Harcourt Spanish reading/language arts program /                            |  0 |\n",
       "| Scott Foresman reading /                                                                         |  4 |\n",
       "| Vamos de fiesta! :|a Harcourt Spanish reading/language arts program /                            |  6 |\n",
       "| Population today.                                                                                |  0 |\n",
       "| Practical plays /                                                                                |  3 |\n",
       "| Science, technology &amp; human values.                                                              |  0 |\n",
       "| CL locker keys                                                                                   | 13 |\n",
       "| Vamos de fiesta! :|a Harcourt Spanish reading/language arts program /                            |  2 |\n",
       "\n"
      ],
      "text/plain": [
       "      title                                                                                           \n",
       "1     Bermuda Triangle /                                                                              \n",
       "2     Invaders from outer space :|real-life stories of UFOs /                                         \n",
       "3     Down Cut Shin Creek :|the pack horse librarians of Kentucky /                                   \n",
       "4     The Chinese book of animal powers /                                                             \n",
       "5     Judge Judy Sheindlin's Win or lose by how you choose! /                                         \n",
       "6     Judge Judy Sheindlin's You can't judge a book by its cover :|cool rules for school /            \n",
       "7     A young child's Bible /                                                                         \n",
       "8     God's Kingdom :|stories from the New Testament /                                                \n",
       "9     Roman myths /                                                                                   \n",
       "10    Greek gods and goddesses /                                                                      \n",
       "11    The story of Shabbat /                                                                          \n",
       "12    On Shabbat /                                                                                    \n",
       "13    On Purim /                                                                                      \n",
       "14    Coming to America :|the story of immigration /                                                  \n",
       "15    The shared heart :|portraits and stories celebrating lesbian, gay, and bisexual young people /  \n",
       "16    Remember the ladies :|100 great American women /                                                \n",
       "17    One Belfast boy /                                                                               \n",
       "18    One boy from Kosovo /                                                                           \n",
       "19    Slavery :|bondage throughout history /                                                          \n",
       "20    River town /                                                                                    \n",
       "21    Kids on strike! /                                                                               \n",
       "22    A kids' guide to America's Bill of Rights :|curfews, censorship, and the 100-pound giant /      \n",
       "23    Do you remember the color blue? :|and other questions kids ask about blindness /                \n",
       "24    The wildlife detectives :|how forensic scientists fight crimes against nature /                 \n",
       "25    The environmental movement :|from its roots to the challenges of a new century /                \n",
       "26    After the spill :|the Exxon Valdez disaster, then and now /                                     \n",
       "27    Juvenile crime /                                                                                \n",
       "28    One-room school /                                                                               \n",
       "29    Reader's choice :|the books children love to read and teachers love to teach.                   \n",
       "30    Reader's choice :|the books children love to read and teachers love to teach.                   \n",
       "⋮     ⋮                                                                                               \n",
       "9971  Lectura Scott Foresman /                                                                        \n",
       "9972  Employment dispute resolution and worker rights in the changing workplace /                     \n",
       "9973  The best teacher \"stuff\" /                                                                      \n",
       "9974  Rosso in Italy :|the Italian career of Rosso Fiorentino /                                       \n",
       "9975  CL locker keys                                                                                  \n",
       "9976  Many peoples, one land :|a guide to new multicultural literature for children and young adults /\n",
       "9977  Conceptual revolutions /                                                                        \n",
       "9978  The journals of gerontology.                                                                    \n",
       "9979  U.S. master tax guide.                                                                          \n",
       "9980  Central business review.                                                                        \n",
       "9981  Steamboat! :|the story of Captain Blanche Leathers /                                            \n",
       "9982  Collections.|a Harcourt reading/language arts program.                                          \n",
       "9983  Co-operation in international business :|the use of limited equity arrangements /               \n",
       "9984  McGraw-Hill reading.                                                                            \n",
       "9985  McGraw-Hill lectura /                                                                           \n",
       "9986  Collections :|a Harcourt reading program /                                                      \n",
       "9987  Voz del lector :|los libros que los ninos quieren leer Y los maestros quieren ensenar.          \n",
       "9988  Early supplementary feeding and cognition :|effects over two decades /                          \n",
       "9989  Collections :|a Harcourt reading/language arts program /                                        \n",
       "9990  Lectura Scott Foresman /                                                                        \n",
       "9991  McGraw-Hill lectura /                                                                           \n",
       "9992  McGraw-Hill lectura /                                                                           \n",
       "9993  Vamos de fiesta! :|a Harcourt Spanish reading/language arts program /                           \n",
       "9994  Scott Foresman reading /                                                                        \n",
       "9995  Vamos de fiesta! :|a Harcourt Spanish reading/language arts program /                           \n",
       "9996  Population today.                                                                               \n",
       "9997  Practical plays /                                                                               \n",
       "9998  Science, technology & human values.                                                             \n",
       "9999  CL locker keys                                                                                  \n",
       "10000 Vamos de fiesta! :|a Harcourt Spanish reading/language arts program /                           \n",
       "      tot_chkout\n",
       "1      6        \n",
       "2      2        \n",
       "3      3        \n",
       "4      6        \n",
       "5      7        \n",
       "6      6        \n",
       "7      4        \n",
       "8      2        \n",
       "9      4        \n",
       "10    13        \n",
       "11     6        \n",
       "12     7        \n",
       "13     3        \n",
       "14    22        \n",
       "15     2        \n",
       "16     9        \n",
       "17     4        \n",
       "18     8        \n",
       "19     3        \n",
       "20     5        \n",
       "21     9        \n",
       "22     4        \n",
       "23     5        \n",
       "24     2        \n",
       "25     3        \n",
       "26     5        \n",
       "27     4        \n",
       "28     6        \n",
       "29     1        \n",
       "30     7        \n",
       "⋮     ⋮         \n",
       "9971   4        \n",
       "9972   2        \n",
       "9973   8        \n",
       "9974   0        \n",
       "9975  13        \n",
       "9976   0        \n",
       "9977   0        \n",
       "9978   0        \n",
       "9979   0        \n",
       "9980   0        \n",
       "9981   5        \n",
       "9982  20        \n",
       "9983   0        \n",
       "9984   4        \n",
       "9985   2        \n",
       "9986   0        \n",
       "9987   7        \n",
       "9988   0        \n",
       "9989  18        \n",
       "9990   3        \n",
       "9991   1        \n",
       "9992   1        \n",
       "9993   0        \n",
       "9994   4        \n",
       "9995   6        \n",
       "9996   0        \n",
       "9997   3        \n",
       "9998   0        \n",
       "9999  13        \n",
       "10000  2        "
      ]
     },
     "execution_count": 15,
     "metadata": {
     },
     "output_type": "execute_result"
    }
   ],
   "source": [
    "# specify the variables you want to keep by name\n",
    "booksTitleCheckouts <- select(books, title, tot_chkout)\n",
    "booksTitleCheckouts"
   ]
  },
  {
   "cell_type": "code",
   "execution_count": 16,
   "metadata": {
    "collapsed": false
   },
   "outputs": [
   ],
   "source": [
    "# specify the variables you want to remove with a -\n",
    "books <- select(books, -location)\n",
    "\n",
    "# reorder columns, combined with everything()\n",
    "booksReordered <- select(books, title, tot_chkout, loutdate, everything())"
   ]
  },
  {
   "cell_type": "markdown",
   "metadata": {
    "collapsed": false
   },
   "source": [
    "### Ordering data\n",
    "\n",
    "The `arrange()` function in the `dplyr` package allows you to sort your data by alphabetical or numerical order"
   ]
  },
  {
   "cell_type": "code",
   "execution_count": 17,
   "metadata": {
    "collapsed": false
   },
   "outputs": [
    {
     "name": "stderr",
     "output_type": "stream",
     "text": [
      "WARNING: Some output was deleted.\n"
     ]
    }
   ],
   "source": [
    "booksTitleArrange <- arrange(books, title)\n",
    "\n",
    "# use desc() to sort a variable in descending order\n",
    "booksHighestChkout <- arrange(books, desc(tot_chkout))\n",
    "booksHighestChkout"
   ]
  },
  {
   "cell_type": "code",
   "execution_count": 18,
   "metadata": {
    "collapsed": false
   },
   "outputs": [
   ],
   "source": [
    "# order data based on multiple variables (e.g. sort first by checkout, then by publication year)\n",
    "booksChkoutYear <- arrange(books, desc(tot_chkout), desc(pubyear))"
   ]
  },
  {
   "cell_type": "markdown",
   "metadata": {
    "collapsed": false
   },
   "source": [
    "### Creating new variables\n",
    "\n",
    "The `mutate()` function allows you to create new variables. Here, we use the `str_sub()` function from the `stringr` package to extract the first character of the `callnumber` variable (the call number class) and put it into a new column called `call_class`."
   ]
  },
  {
   "cell_type": "code",
   "execution_count": 19,
   "metadata": {
    "collapsed": false
   },
   "outputs": [
   ],
   "source": [
    "booksLC <- mutate(books,\n",
    "                  call_class = str_sub(callnumber, 1, 1))"
   ]
  },
  {
   "cell_type": "markdown",
   "metadata": {
    "collapsed": false
   },
   "source": [
    "There are two numbers because you must specify a start and an end value–here, we start with the first character, and end with the first character.\n",
    "\n",
    "`mutate()` is also helpful to coerce a column from one data type to another. For example, we can see there are some errors in the `pubyear` variable–some dates are `19zz` or `uuuu`. As a result, this variable was read in as a `character` rather than an `integer`."
   ]
  },
  {
   "cell_type": "code",
   "execution_count": 20,
   "metadata": {
    "collapsed": false
   },
   "outputs": [
    {
     "name": "stderr",
     "output_type": "stream",
     "text": [
      "Warning message in mask$eval_all_mutate(quo):\n",
      "“NAs introduced by coercion”\n"
     ]
    }
   ],
   "source": [
    "books <- mutate(books, pubyear = as.integer(pubyear))"
   ]
  },
  {
   "cell_type": "markdown",
   "metadata": {
    "collapsed": false
   },
   "source": [
    "We see the error message `NAs introduced by coercion`. This is because non-numerical variables become `NA` and the remainder become integers."
   ]
  },
  {
   "cell_type": "markdown",
   "metadata": {
    "collapsed": false
   },
   "source": [
    "### Pattern matching\n",
    "\n",
    "Cleaning text with the `stringr` package is easier when you have a basic understanding of ‘regex’, or regular expression pattern matching. Regex is especially useful for manipulating strings (alphanumeric data), and is the backbone of search-and-replace operations in most applications. Pattern matching is common to all programming languages but regex syntax is often code-language specific. Below, find an example of using pattern matching to find and replace data in R:\n",
    "\n",
    "1. Remove the trailing slash in the title column\n",
    "2. Modify the punctuation separating the title from a subtitle\n",
    "\n",
    "Note: If the final product of this data will be imported into an ILS, you may not want to alter the MARC specific punctuation. All other audiences will appreciate the text normalizing steps.\n",
    "\n",
    "Read more about [matching patterns with regular expressions](https://r4ds.had.co.nz/strings.html#matching-patterns-with-regular-expressions)."
   ]
  },
  {
   "cell_type": "code",
   "execution_count": 21,
   "metadata": {
    "collapsed": false
   },
   "outputs": [
    {
     "data": {
      "text/html": [
       "<table class=\"dataframe\">\n",
       "<caption>A tibble: 10000 × 2</caption>\n",
       "<thead>\n",
       "\t<tr><th scope=col>title_modified</th><th scope=col>title</th></tr>\n",
       "\t<tr><th scope=col>&lt;chr&gt;</th><th scope=col>&lt;chr&gt;</th></tr>\n",
       "</thead>\n",
       "<tbody>\n",
       "\t<tr><td>Bermuda Triangle                                                                            </td><td>Bermuda Triangle /                                                                            </td></tr>\n",
       "\t<tr><td>Invaders from outer space: real-life stories of UFOs                                        </td><td>Invaders from outer space :|real-life stories of UFOs /                                       </td></tr>\n",
       "\t<tr><td>Down Cut Shin Creek: the pack horse librarians of Kentucky                                  </td><td>Down Cut Shin Creek :|the pack horse librarians of Kentucky /                                 </td></tr>\n",
       "\t<tr><td>The Chinese book of animal powers                                                           </td><td>The Chinese book of animal powers /                                                           </td></tr>\n",
       "\t<tr><td>Judge Judy Sheindlin's Win or lose by how you choose!                                       </td><td>Judge Judy Sheindlin's Win or lose by how you choose! /                                       </td></tr>\n",
       "\t<tr><td>Judge Judy Sheindlin's You can't judge a book by its cover: cool rules for school           </td><td>Judge Judy Sheindlin's You can't judge a book by its cover :|cool rules for school /          </td></tr>\n",
       "\t<tr><td>A young child's Bible                                                                       </td><td>A young child's Bible /                                                                       </td></tr>\n",
       "\t<tr><td>God's Kingdom: stories from the New Testament                                               </td><td>God's Kingdom :|stories from the New Testament /                                              </td></tr>\n",
       "\t<tr><td>Roman myths                                                                                 </td><td>Roman myths /                                                                                 </td></tr>\n",
       "\t<tr><td>Greek gods and goddesses                                                                    </td><td>Greek gods and goddesses /                                                                    </td></tr>\n",
       "\t<tr><td>The story of Shabbat                                                                        </td><td>The story of Shabbat /                                                                        </td></tr>\n",
       "\t<tr><td>On Shabbat                                                                                  </td><td>On Shabbat /                                                                                  </td></tr>\n",
       "\t<tr><td>On Purim                                                                                    </td><td>On Purim /                                                                                    </td></tr>\n",
       "\t<tr><td>Coming to America: the story of immigration                                                 </td><td>Coming to America :|the story of immigration /                                                </td></tr>\n",
       "\t<tr><td>The shared heart: portraits and stories celebrating lesbian, gay, and bisexual young people </td><td>The shared heart :|portraits and stories celebrating lesbian, gay, and bisexual young people /</td></tr>\n",
       "\t<tr><td>Remember the ladies: 100 great American women                                               </td><td>Remember the ladies :|100 great American women /                                              </td></tr>\n",
       "\t<tr><td>One Belfast boy                                                                             </td><td>One Belfast boy /                                                                             </td></tr>\n",
       "\t<tr><td>One boy from Kosovo                                                                         </td><td>One boy from Kosovo /                                                                         </td></tr>\n",
       "\t<tr><td>Slavery: bondage throughout history                                                         </td><td>Slavery :|bondage throughout history /                                                        </td></tr>\n",
       "\t<tr><td>River town                                                                                  </td><td>River town /                                                                                  </td></tr>\n",
       "\t<tr><td>Kids on strike!                                                                             </td><td>Kids on strike! /                                                                             </td></tr>\n",
       "\t<tr><td>A kids' guide to America's Bill of Rights: curfews, censorship, and the 100-pound giant     </td><td>A kids' guide to America's Bill of Rights :|curfews, censorship, and the 100-pound giant /    </td></tr>\n",
       "\t<tr><td>Do you remember the color blue?: and other questions kids ask about blindness               </td><td>Do you remember the color blue? :|and other questions kids ask about blindness /              </td></tr>\n",
       "\t<tr><td>The wildlife detectives: how forensic scientists fight crimes against nature                </td><td>The wildlife detectives :|how forensic scientists fight crimes against nature /               </td></tr>\n",
       "\t<tr><td>The environmental movement: from its roots to the challenges of a new century               </td><td>The environmental movement :|from its roots to the challenges of a new century /              </td></tr>\n",
       "\t<tr><td>After the spill: the Exxon Valdez disaster, then and now                                    </td><td>After the spill :|the Exxon Valdez disaster, then and now /                                   </td></tr>\n",
       "\t<tr><td>Juvenile crime                                                                              </td><td>Juvenile crime /                                                                              </td></tr>\n",
       "\t<tr><td>One-room school                                                                             </td><td>One-room school /                                                                             </td></tr>\n",
       "\t<tr><td>Reader's choice: the books children love to read and teachers love to teach.                </td><td>Reader's choice :|the books children love to read and teachers love to teach.                 </td></tr>\n",
       "\t<tr><td>Reader's choice: the books children love to read and teachers love to teach.                </td><td>Reader's choice :|the books children love to read and teachers love to teach.                 </td></tr>\n",
       "\t<tr><td>⋮</td><td>⋮</td></tr>\n",
       "\t<tr><td>Lectura Scott Foresman                                                                        </td><td>Lectura Scott Foresman /                                                                        </td></tr>\n",
       "\t<tr><td>Employment dispute resolution and worker rights in the changing workplace                     </td><td>Employment dispute resolution and worker rights in the changing workplace /                     </td></tr>\n",
       "\t<tr><td>The best teacher \"stuff\"                                                                      </td><td>The best teacher \"stuff\" /                                                                      </td></tr>\n",
       "\t<tr><td>Rosso in Italy: the Italian career of Rosso Fiorentino                                        </td><td>Rosso in Italy :|the Italian career of Rosso Fiorentino /                                       </td></tr>\n",
       "\t<tr><td>CL locker keys                                                                                </td><td>CL locker keys                                                                                  </td></tr>\n",
       "\t<tr><td>Many peoples, one land: a guide to new multicultural literature for children and young adults </td><td>Many peoples, one land :|a guide to new multicultural literature for children and young adults /</td></tr>\n",
       "\t<tr><td>Conceptual revolutions                                                                        </td><td>Conceptual revolutions /                                                                        </td></tr>\n",
       "\t<tr><td>The journals of gerontology.                                                                  </td><td>The journals of gerontology.                                                                    </td></tr>\n",
       "\t<tr><td>U.S. master tax guide.                                                                        </td><td>U.S. master tax guide.                                                                          </td></tr>\n",
       "\t<tr><td>Central business review.                                                                      </td><td>Central business review.                                                                        </td></tr>\n",
       "\t<tr><td>Steamboat!: the story of Captain Blanche Leathers                                             </td><td>Steamboat! :|the story of Captain Blanche Leathers /                                            </td></tr>\n",
       "\t<tr><td>Collections.|a Harcourt reading/language arts program.                                        </td><td>Collections.|a Harcourt reading/language arts program.                                          </td></tr>\n",
       "\t<tr><td>Co-operation in international business: the use of limited equity arrangements                </td><td>Co-operation in international business :|the use of limited equity arrangements /               </td></tr>\n",
       "\t<tr><td>McGraw-Hill reading.                                                                          </td><td>McGraw-Hill reading.                                                                            </td></tr>\n",
       "\t<tr><td>McGraw-Hill lectura                                                                           </td><td>McGraw-Hill lectura /                                                                           </td></tr>\n",
       "\t<tr><td>Collections: a Harcourt reading program                                                       </td><td>Collections :|a Harcourt reading program /                                                      </td></tr>\n",
       "\t<tr><td>Voz del lector: los libros que los ninos quieren leer Y los maestros quieren ensenar.         </td><td>Voz del lector :|los libros que los ninos quieren leer Y los maestros quieren ensenar.          </td></tr>\n",
       "\t<tr><td>Early supplementary feeding and cognition: effects over two decades                           </td><td>Early supplementary feeding and cognition :|effects over two decades /                          </td></tr>\n",
       "\t<tr><td>Collections: a Harcourt reading/language arts program                                         </td><td>Collections :|a Harcourt reading/language arts program /                                        </td></tr>\n",
       "\t<tr><td>Lectura Scott Foresman                                                                        </td><td>Lectura Scott Foresman /                                                                        </td></tr>\n",
       "\t<tr><td>McGraw-Hill lectura                                                                           </td><td>McGraw-Hill lectura /                                                                           </td></tr>\n",
       "\t<tr><td>McGraw-Hill lectura                                                                           </td><td>McGraw-Hill lectura /                                                                           </td></tr>\n",
       "\t<tr><td>Vamos de fiesta!: a Harcourt Spanish reading/language arts program                            </td><td>Vamos de fiesta! :|a Harcourt Spanish reading/language arts program /                           </td></tr>\n",
       "\t<tr><td>Scott Foresman reading                                                                        </td><td>Scott Foresman reading /                                                                        </td></tr>\n",
       "\t<tr><td>Vamos de fiesta!: a Harcourt Spanish reading/language arts program                            </td><td>Vamos de fiesta! :|a Harcourt Spanish reading/language arts program /                           </td></tr>\n",
       "\t<tr><td>Population today.                                                                             </td><td>Population today.                                                                               </td></tr>\n",
       "\t<tr><td>Practical plays                                                                               </td><td>Practical plays /                                                                               </td></tr>\n",
       "\t<tr><td><span style=white-space:pre-wrap>Science, technology &amp; human values.                                                           </span></td><td><span style=white-space:pre-wrap>Science, technology &amp; human values.                                                             </span></td></tr>\n",
       "\t<tr><td>CL locker keys                                                                                </td><td>CL locker keys                                                                                  </td></tr>\n",
       "\t<tr><td>Vamos de fiesta!: a Harcourt Spanish reading/language arts program                            </td><td>Vamos de fiesta! :|a Harcourt Spanish reading/language arts program /                           </td></tr>\n",
       "</tbody>\n",
       "</table>\n"
      ],
      "text/latex": [
       "A tibble: 10000 × 2\n",
       "\\begin{tabular}{ll}\n",
       " title\\_modified & title\\\\\n",
       " <chr> & <chr>\\\\\n",
       "\\hline\n",
       "\t Bermuda Triangle                                                                             & Bermuda Triangle /                                                                            \\\\\n",
       "\t Invaders from outer space: real-life stories of UFOs                                         & Invaders from outer space :\\textbar{}real-life stories of UFOs /                                       \\\\\n",
       "\t Down Cut Shin Creek: the pack horse librarians of Kentucky                                   & Down Cut Shin Creek :\\textbar{}the pack horse librarians of Kentucky /                                 \\\\\n",
       "\t The Chinese book of animal powers                                                            & The Chinese book of animal powers /                                                           \\\\\n",
       "\t Judge Judy Sheindlin's Win or lose by how you choose!                                        & Judge Judy Sheindlin's Win or lose by how you choose! /                                       \\\\\n",
       "\t Judge Judy Sheindlin's You can't judge a book by its cover: cool rules for school            & Judge Judy Sheindlin's You can't judge a book by its cover :\\textbar{}cool rules for school /          \\\\\n",
       "\t A young child's Bible                                                                        & A young child's Bible /                                                                       \\\\\n",
       "\t God's Kingdom: stories from the New Testament                                                & God's Kingdom :\\textbar{}stories from the New Testament /                                              \\\\\n",
       "\t Roman myths                                                                                  & Roman myths /                                                                                 \\\\\n",
       "\t Greek gods and goddesses                                                                     & Greek gods and goddesses /                                                                    \\\\\n",
       "\t The story of Shabbat                                                                         & The story of Shabbat /                                                                        \\\\\n",
       "\t On Shabbat                                                                                   & On Shabbat /                                                                                  \\\\\n",
       "\t On Purim                                                                                     & On Purim /                                                                                    \\\\\n",
       "\t Coming to America: the story of immigration                                                  & Coming to America :\\textbar{}the story of immigration /                                                \\\\\n",
       "\t The shared heart: portraits and stories celebrating lesbian, gay, and bisexual young people  & The shared heart :\\textbar{}portraits and stories celebrating lesbian, gay, and bisexual young people /\\\\\n",
       "\t Remember the ladies: 100 great American women                                                & Remember the ladies :\\textbar{}100 great American women /                                              \\\\\n",
       "\t One Belfast boy                                                                              & One Belfast boy /                                                                             \\\\\n",
       "\t One boy from Kosovo                                                                          & One boy from Kosovo /                                                                         \\\\\n",
       "\t Slavery: bondage throughout history                                                          & Slavery :\\textbar{}bondage throughout history /                                                        \\\\\n",
       "\t River town                                                                                   & River town /                                                                                  \\\\\n",
       "\t Kids on strike!                                                                              & Kids on strike! /                                                                             \\\\\n",
       "\t A kids' guide to America's Bill of Rights: curfews, censorship, and the 100-pound giant      & A kids' guide to America's Bill of Rights :\\textbar{}curfews, censorship, and the 100-pound giant /    \\\\\n",
       "\t Do you remember the color blue?: and other questions kids ask about blindness                & Do you remember the color blue? :\\textbar{}and other questions kids ask about blindness /              \\\\\n",
       "\t The wildlife detectives: how forensic scientists fight crimes against nature                 & The wildlife detectives :\\textbar{}how forensic scientists fight crimes against nature /               \\\\\n",
       "\t The environmental movement: from its roots to the challenges of a new century                & The environmental movement :\\textbar{}from its roots to the challenges of a new century /              \\\\\n",
       "\t After the spill: the Exxon Valdez disaster, then and now                                     & After the spill :\\textbar{}the Exxon Valdez disaster, then and now /                                   \\\\\n",
       "\t Juvenile crime                                                                               & Juvenile crime /                                                                              \\\\\n",
       "\t One-room school                                                                              & One-room school /                                                                             \\\\\n",
       "\t Reader's choice: the books children love to read and teachers love to teach.                 & Reader's choice :\\textbar{}the books children love to read and teachers love to teach.                 \\\\\n",
       "\t Reader's choice: the books children love to read and teachers love to teach.                 & Reader's choice :\\textbar{}the books children love to read and teachers love to teach.                 \\\\\n",
       "\t ⋮ & ⋮\\\\\n",
       "\t Lectura Scott Foresman                                                                         & Lectura Scott Foresman /                                                                        \\\\\n",
       "\t Employment dispute resolution and worker rights in the changing workplace                      & Employment dispute resolution and worker rights in the changing workplace /                     \\\\\n",
       "\t The best teacher \"stuff\"                                                                       & The best teacher \"stuff\" /                                                                      \\\\\n",
       "\t Rosso in Italy: the Italian career of Rosso Fiorentino                                         & Rosso in Italy :\\textbar{}the Italian career of Rosso Fiorentino /                                       \\\\\n",
       "\t CL locker keys                                                                                 & CL locker keys                                                                                  \\\\\n",
       "\t Many peoples, one land: a guide to new multicultural literature for children and young adults  & Many peoples, one land :\\textbar{}a guide to new multicultural literature for children and young adults /\\\\\n",
       "\t Conceptual revolutions                                                                         & Conceptual revolutions /                                                                        \\\\\n",
       "\t The journals of gerontology.                                                                   & The journals of gerontology.                                                                    \\\\\n",
       "\t U.S. master tax guide.                                                                         & U.S. master tax guide.                                                                          \\\\\n",
       "\t Central business review.                                                                       & Central business review.                                                                        \\\\\n",
       "\t Steamboat!: the story of Captain Blanche Leathers                                              & Steamboat! :\\textbar{}the story of Captain Blanche Leathers /                                            \\\\\n",
       "\t Collections.\\textbar{}a Harcourt reading/language arts program.                                         & Collections.\\textbar{}a Harcourt reading/language arts program.                                          \\\\\n",
       "\t Co-operation in international business: the use of limited equity arrangements                 & Co-operation in international business :\\textbar{}the use of limited equity arrangements /               \\\\\n",
       "\t McGraw-Hill reading.                                                                           & McGraw-Hill reading.                                                                            \\\\\n",
       "\t McGraw-Hill lectura                                                                            & McGraw-Hill lectura /                                                                           \\\\\n",
       "\t Collections: a Harcourt reading program                                                        & Collections :\\textbar{}a Harcourt reading program /                                                      \\\\\n",
       "\t Voz del lector: los libros que los ninos quieren leer Y los maestros quieren ensenar.          & Voz del lector :\\textbar{}los libros que los ninos quieren leer Y los maestros quieren ensenar.          \\\\\n",
       "\t Early supplementary feeding and cognition: effects over two decades                            & Early supplementary feeding and cognition :\\textbar{}effects over two decades /                          \\\\\n",
       "\t Collections: a Harcourt reading/language arts program                                          & Collections :\\textbar{}a Harcourt reading/language arts program /                                        \\\\\n",
       "\t Lectura Scott Foresman                                                                         & Lectura Scott Foresman /                                                                        \\\\\n",
       "\t McGraw-Hill lectura                                                                            & McGraw-Hill lectura /                                                                           \\\\\n",
       "\t McGraw-Hill lectura                                                                            & McGraw-Hill lectura /                                                                           \\\\\n",
       "\t Vamos de fiesta!: a Harcourt Spanish reading/language arts program                             & Vamos de fiesta! :\\textbar{}a Harcourt Spanish reading/language arts program /                           \\\\\n",
       "\t Scott Foresman reading                                                                         & Scott Foresman reading /                                                                        \\\\\n",
       "\t Vamos de fiesta!: a Harcourt Spanish reading/language arts program                             & Vamos de fiesta! :\\textbar{}a Harcourt Spanish reading/language arts program /                           \\\\\n",
       "\t Population today.                                                                              & Population today.                                                                               \\\\\n",
       "\t Practical plays                                                                                & Practical plays /                                                                               \\\\\n",
       "\t Science, technology \\& human values.                                                            & Science, technology \\& human values.                                                             \\\\\n",
       "\t CL locker keys                                                                                 & CL locker keys                                                                                  \\\\\n",
       "\t Vamos de fiesta!: a Harcourt Spanish reading/language arts program                             & Vamos de fiesta! :\\textbar{}a Harcourt Spanish reading/language arts program /                           \\\\\n",
       "\\end{tabular}\n"
      ],
      "text/markdown": [
       "\n",
       "A tibble: 10000 × 2\n",
       "\n",
       "| title_modified &lt;chr&gt; | title &lt;chr&gt; |\n",
       "|---|---|\n",
       "| Bermuda Triangle                                                                             | Bermuda Triangle /                                                                             |\n",
       "| Invaders from outer space: real-life stories of UFOs                                         | Invaders from outer space :|real-life stories of UFOs /                                        |\n",
       "| Down Cut Shin Creek: the pack horse librarians of Kentucky                                   | Down Cut Shin Creek :|the pack horse librarians of Kentucky /                                  |\n",
       "| The Chinese book of animal powers                                                            | The Chinese book of animal powers /                                                            |\n",
       "| Judge Judy Sheindlin's Win or lose by how you choose!                                        | Judge Judy Sheindlin's Win or lose by how you choose! /                                        |\n",
       "| Judge Judy Sheindlin's You can't judge a book by its cover: cool rules for school            | Judge Judy Sheindlin's You can't judge a book by its cover :|cool rules for school /           |\n",
       "| A young child's Bible                                                                        | A young child's Bible /                                                                        |\n",
       "| God's Kingdom: stories from the New Testament                                                | God's Kingdom :|stories from the New Testament /                                               |\n",
       "| Roman myths                                                                                  | Roman myths /                                                                                  |\n",
       "| Greek gods and goddesses                                                                     | Greek gods and goddesses /                                                                     |\n",
       "| The story of Shabbat                                                                         | The story of Shabbat /                                                                         |\n",
       "| On Shabbat                                                                                   | On Shabbat /                                                                                   |\n",
       "| On Purim                                                                                     | On Purim /                                                                                     |\n",
       "| Coming to America: the story of immigration                                                  | Coming to America :|the story of immigration /                                                 |\n",
       "| The shared heart: portraits and stories celebrating lesbian, gay, and bisexual young people  | The shared heart :|portraits and stories celebrating lesbian, gay, and bisexual young people / |\n",
       "| Remember the ladies: 100 great American women                                                | Remember the ladies :|100 great American women /                                               |\n",
       "| One Belfast boy                                                                              | One Belfast boy /                                                                              |\n",
       "| One boy from Kosovo                                                                          | One boy from Kosovo /                                                                          |\n",
       "| Slavery: bondage throughout history                                                          | Slavery :|bondage throughout history /                                                         |\n",
       "| River town                                                                                   | River town /                                                                                   |\n",
       "| Kids on strike!                                                                              | Kids on strike! /                                                                              |\n",
       "| A kids' guide to America's Bill of Rights: curfews, censorship, and the 100-pound giant      | A kids' guide to America's Bill of Rights :|curfews, censorship, and the 100-pound giant /     |\n",
       "| Do you remember the color blue?: and other questions kids ask about blindness                | Do you remember the color blue? :|and other questions kids ask about blindness /               |\n",
       "| The wildlife detectives: how forensic scientists fight crimes against nature                 | The wildlife detectives :|how forensic scientists fight crimes against nature /                |\n",
       "| The environmental movement: from its roots to the challenges of a new century                | The environmental movement :|from its roots to the challenges of a new century /               |\n",
       "| After the spill: the Exxon Valdez disaster, then and now                                     | After the spill :|the Exxon Valdez disaster, then and now /                                    |\n",
       "| Juvenile crime                                                                               | Juvenile crime /                                                                               |\n",
       "| One-room school                                                                              | One-room school /                                                                              |\n",
       "| Reader's choice: the books children love to read and teachers love to teach.                 | Reader's choice :|the books children love to read and teachers love to teach.                  |\n",
       "| Reader's choice: the books children love to read and teachers love to teach.                 | Reader's choice :|the books children love to read and teachers love to teach.                  |\n",
       "| ⋮ | ⋮ |\n",
       "| Lectura Scott Foresman                                                                         | Lectura Scott Foresman /                                                                         |\n",
       "| Employment dispute resolution and worker rights in the changing workplace                      | Employment dispute resolution and worker rights in the changing workplace /                      |\n",
       "| The best teacher \"stuff\"                                                                       | The best teacher \"stuff\" /                                                                       |\n",
       "| Rosso in Italy: the Italian career of Rosso Fiorentino                                         | Rosso in Italy :|the Italian career of Rosso Fiorentino /                                        |\n",
       "| CL locker keys                                                                                 | CL locker keys                                                                                   |\n",
       "| Many peoples, one land: a guide to new multicultural literature for children and young adults  | Many peoples, one land :|a guide to new multicultural literature for children and young adults / |\n",
       "| Conceptual revolutions                                                                         | Conceptual revolutions /                                                                         |\n",
       "| The journals of gerontology.                                                                   | The journals of gerontology.                                                                     |\n",
       "| U.S. master tax guide.                                                                         | U.S. master tax guide.                                                                           |\n",
       "| Central business review.                                                                       | Central business review.                                                                         |\n",
       "| Steamboat!: the story of Captain Blanche Leathers                                              | Steamboat! :|the story of Captain Blanche Leathers /                                             |\n",
       "| Collections.|a Harcourt reading/language arts program.                                         | Collections.|a Harcourt reading/language arts program.                                           |\n",
       "| Co-operation in international business: the use of limited equity arrangements                 | Co-operation in international business :|the use of limited equity arrangements /                |\n",
       "| McGraw-Hill reading.                                                                           | McGraw-Hill reading.                                                                             |\n",
       "| McGraw-Hill lectura                                                                            | McGraw-Hill lectura /                                                                            |\n",
       "| Collections: a Harcourt reading program                                                        | Collections :|a Harcourt reading program /                                                       |\n",
       "| Voz del lector: los libros que los ninos quieren leer Y los maestros quieren ensenar.          | Voz del lector :|los libros que los ninos quieren leer Y los maestros quieren ensenar.           |\n",
       "| Early supplementary feeding and cognition: effects over two decades                            | Early supplementary feeding and cognition :|effects over two decades /                           |\n",
       "| Collections: a Harcourt reading/language arts program                                          | Collections :|a Harcourt reading/language arts program /                                         |\n",
       "| Lectura Scott Foresman                                                                         | Lectura Scott Foresman /                                                                         |\n",
       "| McGraw-Hill lectura                                                                            | McGraw-Hill lectura /                                                                            |\n",
       "| McGraw-Hill lectura                                                                            | McGraw-Hill lectura /                                                                            |\n",
       "| Vamos de fiesta!: a Harcourt Spanish reading/language arts program                             | Vamos de fiesta! :|a Harcourt Spanish reading/language arts program /                            |\n",
       "| Scott Foresman reading                                                                         | Scott Foresman reading /                                                                         |\n",
       "| Vamos de fiesta!: a Harcourt Spanish reading/language arts program                             | Vamos de fiesta! :|a Harcourt Spanish reading/language arts program /                            |\n",
       "| Population today.                                                                              | Population today.                                                                                |\n",
       "| Practical plays                                                                                | Practical plays /                                                                                |\n",
       "| Science, technology &amp; human values.                                                            | Science, technology &amp; human values.                                                              |\n",
       "| CL locker keys                                                                                 | CL locker keys                                                                                   |\n",
       "| Vamos de fiesta!: a Harcourt Spanish reading/language arts program                             | Vamos de fiesta! :|a Harcourt Spanish reading/language arts program /                            |\n",
       "\n"
      ],
      "text/plain": [
       "      title_modified                                                                                \n",
       "1     Bermuda Triangle                                                                              \n",
       "2     Invaders from outer space: real-life stories of UFOs                                          \n",
       "3     Down Cut Shin Creek: the pack horse librarians of Kentucky                                    \n",
       "4     The Chinese book of animal powers                                                             \n",
       "5     Judge Judy Sheindlin's Win or lose by how you choose!                                         \n",
       "6     Judge Judy Sheindlin's You can't judge a book by its cover: cool rules for school             \n",
       "7     A young child's Bible                                                                         \n",
       "8     God's Kingdom: stories from the New Testament                                                 \n",
       "9     Roman myths                                                                                   \n",
       "10    Greek gods and goddesses                                                                      \n",
       "11    The story of Shabbat                                                                          \n",
       "12    On Shabbat                                                                                    \n",
       "13    On Purim                                                                                      \n",
       "14    Coming to America: the story of immigration                                                   \n",
       "15    The shared heart: portraits and stories celebrating lesbian, gay, and bisexual young people   \n",
       "16    Remember the ladies: 100 great American women                                                 \n",
       "17    One Belfast boy                                                                               \n",
       "18    One boy from Kosovo                                                                           \n",
       "19    Slavery: bondage throughout history                                                           \n",
       "20    River town                                                                                    \n",
       "21    Kids on strike!                                                                               \n",
       "22    A kids' guide to America's Bill of Rights: curfews, censorship, and the 100-pound giant       \n",
       "23    Do you remember the color blue?: and other questions kids ask about blindness                 \n",
       "24    The wildlife detectives: how forensic scientists fight crimes against nature                  \n",
       "25    The environmental movement: from its roots to the challenges of a new century                 \n",
       "26    After the spill: the Exxon Valdez disaster, then and now                                      \n",
       "27    Juvenile crime                                                                                \n",
       "28    One-room school                                                                               \n",
       "29    Reader's choice: the books children love to read and teachers love to teach.                  \n",
       "30    Reader's choice: the books children love to read and teachers love to teach.                  \n",
       "⋮     ⋮                                                                                             \n",
       "9971  Lectura Scott Foresman                                                                        \n",
       "9972  Employment dispute resolution and worker rights in the changing workplace                     \n",
       "9973  The best teacher \"stuff\"                                                                      \n",
       "9974  Rosso in Italy: the Italian career of Rosso Fiorentino                                        \n",
       "9975  CL locker keys                                                                                \n",
       "9976  Many peoples, one land: a guide to new multicultural literature for children and young adults \n",
       "9977  Conceptual revolutions                                                                        \n",
       "9978  The journals of gerontology.                                                                  \n",
       "9979  U.S. master tax guide.                                                                        \n",
       "9980  Central business review.                                                                      \n",
       "9981  Steamboat!: the story of Captain Blanche Leathers                                             \n",
       "9982  Collections.|a Harcourt reading/language arts program.                                        \n",
       "9983  Co-operation in international business: the use of limited equity arrangements                \n",
       "9984  McGraw-Hill reading.                                                                          \n",
       "9985  McGraw-Hill lectura                                                                           \n",
       "9986  Collections: a Harcourt reading program                                                       \n",
       "9987  Voz del lector: los libros que los ninos quieren leer Y los maestros quieren ensenar.         \n",
       "9988  Early supplementary feeding and cognition: effects over two decades                           \n",
       "9989  Collections: a Harcourt reading/language arts program                                         \n",
       "9990  Lectura Scott Foresman                                                                        \n",
       "9991  McGraw-Hill lectura                                                                           \n",
       "9992  McGraw-Hill lectura                                                                           \n",
       "9993  Vamos de fiesta!: a Harcourt Spanish reading/language arts program                            \n",
       "9994  Scott Foresman reading                                                                        \n",
       "9995  Vamos de fiesta!: a Harcourt Spanish reading/language arts program                            \n",
       "9996  Population today.                                                                             \n",
       "9997  Practical plays                                                                               \n",
       "9998  Science, technology & human values.                                                           \n",
       "9999  CL locker keys                                                                                \n",
       "10000 Vamos de fiesta!: a Harcourt Spanish reading/language arts program                            \n",
       "      title                                                                                           \n",
       "1     Bermuda Triangle /                                                                              \n",
       "2     Invaders from outer space :|real-life stories of UFOs /                                         \n",
       "3     Down Cut Shin Creek :|the pack horse librarians of Kentucky /                                   \n",
       "4     The Chinese book of animal powers /                                                             \n",
       "5     Judge Judy Sheindlin's Win or lose by how you choose! /                                         \n",
       "6     Judge Judy Sheindlin's You can't judge a book by its cover :|cool rules for school /            \n",
       "7     A young child's Bible /                                                                         \n",
       "8     God's Kingdom :|stories from the New Testament /                                                \n",
       "9     Roman myths /                                                                                   \n",
       "10    Greek gods and goddesses /                                                                      \n",
       "11    The story of Shabbat /                                                                          \n",
       "12    On Shabbat /                                                                                    \n",
       "13    On Purim /                                                                                      \n",
       "14    Coming to America :|the story of immigration /                                                  \n",
       "15    The shared heart :|portraits and stories celebrating lesbian, gay, and bisexual young people /  \n",
       "16    Remember the ladies :|100 great American women /                                                \n",
       "17    One Belfast boy /                                                                               \n",
       "18    One boy from Kosovo /                                                                           \n",
       "19    Slavery :|bondage throughout history /                                                          \n",
       "20    River town /                                                                                    \n",
       "21    Kids on strike! /                                                                               \n",
       "22    A kids' guide to America's Bill of Rights :|curfews, censorship, and the 100-pound giant /      \n",
       "23    Do you remember the color blue? :|and other questions kids ask about blindness /                \n",
       "24    The wildlife detectives :|how forensic scientists fight crimes against nature /                 \n",
       "25    The environmental movement :|from its roots to the challenges of a new century /                \n",
       "26    After the spill :|the Exxon Valdez disaster, then and now /                                     \n",
       "27    Juvenile crime /                                                                                \n",
       "28    One-room school /                                                                               \n",
       "29    Reader's choice :|the books children love to read and teachers love to teach.                   \n",
       "30    Reader's choice :|the books children love to read and teachers love to teach.                   \n",
       "⋮     ⋮                                                                                               \n",
       "9971  Lectura Scott Foresman /                                                                        \n",
       "9972  Employment dispute resolution and worker rights in the changing workplace /                     \n",
       "9973  The best teacher \"stuff\" /                                                                      \n",
       "9974  Rosso in Italy :|the Italian career of Rosso Fiorentino /                                       \n",
       "9975  CL locker keys                                                                                  \n",
       "9976  Many peoples, one land :|a guide to new multicultural literature for children and young adults /\n",
       "9977  Conceptual revolutions /                                                                        \n",
       "9978  The journals of gerontology.                                                                    \n",
       "9979  U.S. master tax guide.                                                                          \n",
       "9980  Central business review.                                                                        \n",
       "9981  Steamboat! :|the story of Captain Blanche Leathers /                                            \n",
       "9982  Collections.|a Harcourt reading/language arts program.                                          \n",
       "9983  Co-operation in international business :|the use of limited equity arrangements /               \n",
       "9984  McGraw-Hill reading.                                                                            \n",
       "9985  McGraw-Hill lectura /                                                                           \n",
       "9986  Collections :|a Harcourt reading program /                                                      \n",
       "9987  Voz del lector :|los libros que los ninos quieren leer Y los maestros quieren ensenar.          \n",
       "9988  Early supplementary feeding and cognition :|effects over two decades /                          \n",
       "9989  Collections :|a Harcourt reading/language arts program /                                        \n",
       "9990  Lectura Scott Foresman /                                                                        \n",
       "9991  McGraw-Hill lectura /                                                                           \n",
       "9992  McGraw-Hill lectura /                                                                           \n",
       "9993  Vamos de fiesta! :|a Harcourt Spanish reading/language arts program /                           \n",
       "9994  Scott Foresman reading /                                                                        \n",
       "9995  Vamos de fiesta! :|a Harcourt Spanish reading/language arts program /                           \n",
       "9996  Population today.                                                                               \n",
       "9997  Practical plays /                                                                               \n",
       "9998  Science, technology & human values.                                                             \n",
       "9999  CL locker keys                                                                                  \n",
       "10000 Vamos de fiesta! :|a Harcourt Spanish reading/language arts program /                           "
      ]
     },
     "execution_count": 21,
     "metadata": {
     },
     "output_type": "execute_result"
    }
   ],
   "source": [
    "books %>% \n",
    "  mutate(title_modified = str_remove(title, \"/$\")) %>%     # remove the trailing slash\n",
    "  mutate(title_modified = str_replace(title_modified, \"\\\\s:\\\\|\", \": \")) %>%   # replace ' :|' with ': '\n",
    "  select(title_modified, title)"
   ]
  },
  {
   "cell_type": "markdown",
   "metadata": {
    "collapsed": false
   },
   "source": [
    "### Putting it all together with %>%\n",
    "\n",
    "The [Pipe Operator](https://www.datacamp.com/community/tutorials/pipe-r-tutorial) `%>%` is loaded with the `tidyverse`. It takes the output of one statement and makes it the input of the next statement. You can think of it as “then” in natural language. So instead of making a bunch of intermediate data frames and cluttering up your workspace, you can run multiple functions at once. You can type the pipe with Ctrl + Shift + M if you have a PC or Cmd + Shift + M if you have a Mac.\n",
    "\n",
    "So in the following example, the `books` tibble is first called, then the `format` is filtered to include only `book`, then only the `title` and `tot_chkout` columns are selected, and finally the data is rearranged from most to least checkouts."
   ]
  },
  {
   "cell_type": "code",
   "execution_count": 22,
   "metadata": {
    "collapsed": false
   },
   "outputs": [
    {
     "data": {
      "text/html": [
       "<table class=\"dataframe\">\n",
       "<caption>A tibble: 6983 × 2</caption>\n",
       "<thead>\n",
       "\t<tr><th scope=col>title</th><th scope=col>tot_chkout</th></tr>\n",
       "\t<tr><th scope=col>&lt;chr&gt;</th><th scope=col>&lt;dbl&gt;</th></tr>\n",
       "</thead>\n",
       "<tbody>\n",
       "\t<tr><td>Click, clack, moo :|cows that type /                             </td><td>113</td></tr>\n",
       "\t<tr><td>The three pigs /                                                 </td><td>106</td></tr>\n",
       "\t<tr><td>Cook-a-doodle-doo! /                                             </td><td>103</td></tr>\n",
       "\t<tr><td>Because of Winn-Dixie /                                          </td><td> 79</td></tr>\n",
       "\t<tr><td>Uptown /                                                         </td><td> 69</td></tr>\n",
       "\t<tr><td>Through my eyes /                                                </td><td> 63</td></tr>\n",
       "\t<tr><td>Bud, not Buddy /                                                 </td><td> 63</td></tr>\n",
       "\t<tr><td>Brown bear, brown bear, what do you see? /                       </td><td> 61</td></tr>\n",
       "\t<tr><td>A year down yonder /                                             </td><td> 47</td></tr>\n",
       "\t<tr><td>Wemberly worried /                                               </td><td> 43</td></tr>\n",
       "\t<tr><td>Oso pardo, oso pardo, qué ves ahí? /                             </td><td> 41</td></tr>\n",
       "\t<tr><td>Discrete mathematics with applications /                         </td><td> 40</td></tr>\n",
       "\t<tr><td>Oh say can you seed? /                                           </td><td> 39</td></tr>\n",
       "\t<tr><td>Art since 1940 :|strategies of being /                           </td><td> 39</td></tr>\n",
       "\t<tr><td>Family /                                                         </td><td> 39</td></tr>\n",
       "\t<tr><td>Calculus and analytic geometry /                                 </td><td> 39</td></tr>\n",
       "\t<tr><td>The keeping quilt /                                              </td><td> 38</td></tr>\n",
       "\t<tr><td>Miss Spider's tea party /                                        </td><td> 38</td></tr>\n",
       "\t<tr><td>There's no place like space /                                    </td><td> 36</td></tr>\n",
       "\t<tr><td>Mufaro's beautiful daughters :|an African tale /                 </td><td> 36</td></tr>\n",
       "\t<tr><td>100th day worries /                                              </td><td> 35</td></tr>\n",
       "\t<tr><td>The yellow star :|the legend of King Christian X of Denmark /    </td><td> 35</td></tr>\n",
       "\t<tr><td>The tipping point :|how little things can make a big difference /</td><td> 35</td></tr>\n",
       "\t<tr><td>Cindy Ellen :|a wild western Cinderella /                        </td><td> 34</td></tr>\n",
       "\t<tr><td>Apples /                                                         </td><td> 34</td></tr>\n",
       "\t<tr><td>The hero with a thousand faces /                                 </td><td> 34</td></tr>\n",
       "\t<tr><td>Where do balloons go? :|an uplifting mystery /                   </td><td> 34</td></tr>\n",
       "\t<tr><td>Scott Foresman reading /                                         </td><td> 34</td></tr>\n",
       "\t<tr><td>Math advantage /                                                 </td><td> 34</td></tr>\n",
       "\t<tr><td>Roughing it on the Oregon Trail /                                </td><td> 33</td></tr>\n",
       "\t<tr><td>⋮</td><td>⋮</td></tr>\n",
       "\t<tr><td>Vamos de fiesta! :|a Harcourt Spanish reading/language arts program /                                                                </td><td>0</td></tr>\n",
       "\t<tr><td>Fearon's world history /                                                                                                             </td><td>0</td></tr>\n",
       "\t<tr><td>National survey of problems and competencies among four- to sixteen-year-olds :|parents' reports for normative and clinical samples /</td><td>0</td></tr>\n",
       "\t<tr><td>Prentice Hall middle grades math :|tools for success /                                                                               </td><td>0</td></tr>\n",
       "\t<tr><td>Information literacy toolkit.                                                                                                        </td><td>0</td></tr>\n",
       "\t<tr><td>Index to artistic biography.                                                                                                         </td><td>0</td></tr>\n",
       "\t<tr><td>AWRA symposium on water resources and the World Wide Web, December 5-9, 1999, Seattle, Washington /                                  </td><td>0</td></tr>\n",
       "\t<tr><td>May Sarton :|a bibliography /                                                                                                        </td><td>0</td></tr>\n",
       "\t<tr><td>McGraw-Hill lectura /                                                                                                                </td><td>0</td></tr>\n",
       "\t<tr><td>Glencoe matemáticas :|aplicaciones y conexiones /                                                                                    </td><td>0</td></tr>\n",
       "\t<tr><td>Index to artistic biography.                                                                                                         </td><td>0</td></tr>\n",
       "\t<tr><td>Library of Congress Africana collections :|an illustrated guide.                                                                     </td><td>0</td></tr>\n",
       "\t<tr><td>McGraw-Hill lectura /                                                                                                                </td><td>0</td></tr>\n",
       "\t<tr><td>SRA Open Court reading. /                                                                                                            </td><td>0</td></tr>\n",
       "\t<tr><td>McGraw-Hill reading.                                                                                                                 </td><td>0</td></tr>\n",
       "\t<tr><td>SRA Open Court reading. /                                                                                                            </td><td>0</td></tr>\n",
       "\t<tr><td>McGraw-Hill reading.                                                                                                                 </td><td>0</td></tr>\n",
       "\t<tr><td>Guided participation in cultural activity by toddlers and caregivers /                                                               </td><td>0</td></tr>\n",
       "\t<tr><td>McGraw-Hill lectura /                                                                                                                </td><td>0</td></tr>\n",
       "\t<tr><td>Accounting handbook /                                                                                                                </td><td>0</td></tr>\n",
       "\t<tr><td>Collections :|a Harcourt reading program /                                                                                           </td><td>0</td></tr>\n",
       "\t<tr><td>Macmillan/McGraw-Hill reading/language arts :|a new view.                                                                            </td><td>0</td></tr>\n",
       "\t<tr><td>Vamos de fiesta! :|a Harcourt Spanish reading/language arts program /                                                                </td><td>0</td></tr>\n",
       "\t<tr><td>Rosso in Italy :|the Italian career of Rosso Fiorentino /                                                                            </td><td>0</td></tr>\n",
       "\t<tr><td>Many peoples, one land :|a guide to new multicultural literature for children and young adults /                                     </td><td>0</td></tr>\n",
       "\t<tr><td>Conceptual revolutions /                                                                                                             </td><td>0</td></tr>\n",
       "\t<tr><td>Co-operation in international business :|the use of limited equity arrangements /                                                    </td><td>0</td></tr>\n",
       "\t<tr><td>Collections :|a Harcourt reading program /                                                                                           </td><td>0</td></tr>\n",
       "\t<tr><td>Early supplementary feeding and cognition :|effects over two decades /                                                               </td><td>0</td></tr>\n",
       "\t<tr><td>Vamos de fiesta! :|a Harcourt Spanish reading/language arts program /                                                                </td><td>0</td></tr>\n",
       "</tbody>\n",
       "</table>\n"
      ],
      "text/latex": [
       "A tibble: 6983 × 2\n",
       "\\begin{tabular}{ll}\n",
       " title & tot\\_chkout\\\\\n",
       " <chr> & <dbl>\\\\\n",
       "\\hline\n",
       "\t Click, clack, moo :\\textbar{}cows that type /                              & 113\\\\\n",
       "\t The three pigs /                                                  & 106\\\\\n",
       "\t Cook-a-doodle-doo! /                                              & 103\\\\\n",
       "\t Because of Winn-Dixie /                                           &  79\\\\\n",
       "\t Uptown /                                                          &  69\\\\\n",
       "\t Through my eyes /                                                 &  63\\\\\n",
       "\t Bud, not Buddy /                                                  &  63\\\\\n",
       "\t Brown bear, brown bear, what do you see? /                        &  61\\\\\n",
       "\t A year down yonder /                                              &  47\\\\\n",
       "\t Wemberly worried /                                                &  43\\\\\n",
       "\t Oso pardo, oso pardo, qué ves ahí? /                              &  41\\\\\n",
       "\t Discrete mathematics with applications /                          &  40\\\\\n",
       "\t Oh say can you seed? /                                            &  39\\\\\n",
       "\t Art since 1940 :\\textbar{}strategies of being /                            &  39\\\\\n",
       "\t Family /                                                          &  39\\\\\n",
       "\t Calculus and analytic geometry /                                  &  39\\\\\n",
       "\t The keeping quilt /                                               &  38\\\\\n",
       "\t Miss Spider's tea party /                                         &  38\\\\\n",
       "\t There's no place like space /                                     &  36\\\\\n",
       "\t Mufaro's beautiful daughters :\\textbar{}an African tale /                  &  36\\\\\n",
       "\t 100th day worries /                                               &  35\\\\\n",
       "\t The yellow star :\\textbar{}the legend of King Christian X of Denmark /     &  35\\\\\n",
       "\t The tipping point :\\textbar{}how little things can make a big difference / &  35\\\\\n",
       "\t Cindy Ellen :\\textbar{}a wild western Cinderella /                         &  34\\\\\n",
       "\t Apples /                                                          &  34\\\\\n",
       "\t The hero with a thousand faces /                                  &  34\\\\\n",
       "\t Where do balloons go? :\\textbar{}an uplifting mystery /                    &  34\\\\\n",
       "\t Scott Foresman reading /                                          &  34\\\\\n",
       "\t Math advantage /                                                  &  34\\\\\n",
       "\t Roughing it on the Oregon Trail /                                 &  33\\\\\n",
       "\t ⋮ & ⋮\\\\\n",
       "\t Vamos de fiesta! :\\textbar{}a Harcourt Spanish reading/language arts program /                                                                 & 0\\\\\n",
       "\t Fearon's world history /                                                                                                              & 0\\\\\n",
       "\t National survey of problems and competencies among four- to sixteen-year-olds :\\textbar{}parents' reports for normative and clinical samples / & 0\\\\\n",
       "\t Prentice Hall middle grades math :\\textbar{}tools for success /                                                                                & 0\\\\\n",
       "\t Information literacy toolkit.                                                                                                         & 0\\\\\n",
       "\t Index to artistic biography.                                                                                                          & 0\\\\\n",
       "\t AWRA symposium on water resources and the World Wide Web, December 5-9, 1999, Seattle, Washington /                                   & 0\\\\\n",
       "\t May Sarton :\\textbar{}a bibliography /                                                                                                         & 0\\\\\n",
       "\t McGraw-Hill lectura /                                                                                                                 & 0\\\\\n",
       "\t Glencoe matemáticas :\\textbar{}aplicaciones y conexiones /                                                                                     & 0\\\\\n",
       "\t Index to artistic biography.                                                                                                          & 0\\\\\n",
       "\t Library of Congress Africana collections :\\textbar{}an illustrated guide.                                                                      & 0\\\\\n",
       "\t McGraw-Hill lectura /                                                                                                                 & 0\\\\\n",
       "\t SRA Open Court reading. /                                                                                                             & 0\\\\\n",
       "\t McGraw-Hill reading.                                                                                                                  & 0\\\\\n",
       "\t SRA Open Court reading. /                                                                                                             & 0\\\\\n",
       "\t McGraw-Hill reading.                                                                                                                  & 0\\\\\n",
       "\t Guided participation in cultural activity by toddlers and caregivers /                                                                & 0\\\\\n",
       "\t McGraw-Hill lectura /                                                                                                                 & 0\\\\\n",
       "\t Accounting handbook /                                                                                                                 & 0\\\\\n",
       "\t Collections :\\textbar{}a Harcourt reading program /                                                                                            & 0\\\\\n",
       "\t Macmillan/McGraw-Hill reading/language arts :\\textbar{}a new view.                                                                             & 0\\\\\n",
       "\t Vamos de fiesta! :\\textbar{}a Harcourt Spanish reading/language arts program /                                                                 & 0\\\\\n",
       "\t Rosso in Italy :\\textbar{}the Italian career of Rosso Fiorentino /                                                                             & 0\\\\\n",
       "\t Many peoples, one land :\\textbar{}a guide to new multicultural literature for children and young adults /                                      & 0\\\\\n",
       "\t Conceptual revolutions /                                                                                                              & 0\\\\\n",
       "\t Co-operation in international business :\\textbar{}the use of limited equity arrangements /                                                     & 0\\\\\n",
       "\t Collections :\\textbar{}a Harcourt reading program /                                                                                            & 0\\\\\n",
       "\t Early supplementary feeding and cognition :\\textbar{}effects over two decades /                                                                & 0\\\\\n",
       "\t Vamos de fiesta! :\\textbar{}a Harcourt Spanish reading/language arts program /                                                                 & 0\\\\\n",
       "\\end{tabular}\n"
      ],
      "text/markdown": [
       "\n",
       "A tibble: 6983 × 2\n",
       "\n",
       "| title &lt;chr&gt; | tot_chkout &lt;dbl&gt; |\n",
       "|---|---|\n",
       "| Click, clack, moo :|cows that type /                              | 113 |\n",
       "| The three pigs /                                                  | 106 |\n",
       "| Cook-a-doodle-doo! /                                              | 103 |\n",
       "| Because of Winn-Dixie /                                           |  79 |\n",
       "| Uptown /                                                          |  69 |\n",
       "| Through my eyes /                                                 |  63 |\n",
       "| Bud, not Buddy /                                                  |  63 |\n",
       "| Brown bear, brown bear, what do you see? /                        |  61 |\n",
       "| A year down yonder /                                              |  47 |\n",
       "| Wemberly worried /                                                |  43 |\n",
       "| Oso pardo, oso pardo, qué ves ahí? /                              |  41 |\n",
       "| Discrete mathematics with applications /                          |  40 |\n",
       "| Oh say can you seed? /                                            |  39 |\n",
       "| Art since 1940 :|strategies of being /                            |  39 |\n",
       "| Family /                                                          |  39 |\n",
       "| Calculus and analytic geometry /                                  |  39 |\n",
       "| The keeping quilt /                                               |  38 |\n",
       "| Miss Spider's tea party /                                         |  38 |\n",
       "| There's no place like space /                                     |  36 |\n",
       "| Mufaro's beautiful daughters :|an African tale /                  |  36 |\n",
       "| 100th day worries /                                               |  35 |\n",
       "| The yellow star :|the legend of King Christian X of Denmark /     |  35 |\n",
       "| The tipping point :|how little things can make a big difference / |  35 |\n",
       "| Cindy Ellen :|a wild western Cinderella /                         |  34 |\n",
       "| Apples /                                                          |  34 |\n",
       "| The hero with a thousand faces /                                  |  34 |\n",
       "| Where do balloons go? :|an uplifting mystery /                    |  34 |\n",
       "| Scott Foresman reading /                                          |  34 |\n",
       "| Math advantage /                                                  |  34 |\n",
       "| Roughing it on the Oregon Trail /                                 |  33 |\n",
       "| ⋮ | ⋮ |\n",
       "| Vamos de fiesta! :|a Harcourt Spanish reading/language arts program /                                                                 | 0 |\n",
       "| Fearon's world history /                                                                                                              | 0 |\n",
       "| National survey of problems and competencies among four- to sixteen-year-olds :|parents' reports for normative and clinical samples / | 0 |\n",
       "| Prentice Hall middle grades math :|tools for success /                                                                                | 0 |\n",
       "| Information literacy toolkit.                                                                                                         | 0 |\n",
       "| Index to artistic biography.                                                                                                          | 0 |\n",
       "| AWRA symposium on water resources and the World Wide Web, December 5-9, 1999, Seattle, Washington /                                   | 0 |\n",
       "| May Sarton :|a bibliography /                                                                                                         | 0 |\n",
       "| McGraw-Hill lectura /                                                                                                                 | 0 |\n",
       "| Glencoe matemáticas :|aplicaciones y conexiones /                                                                                     | 0 |\n",
       "| Index to artistic biography.                                                                                                          | 0 |\n",
       "| Library of Congress Africana collections :|an illustrated guide.                                                                      | 0 |\n",
       "| McGraw-Hill lectura /                                                                                                                 | 0 |\n",
       "| SRA Open Court reading. /                                                                                                             | 0 |\n",
       "| McGraw-Hill reading.                                                                                                                  | 0 |\n",
       "| SRA Open Court reading. /                                                                                                             | 0 |\n",
       "| McGraw-Hill reading.                                                                                                                  | 0 |\n",
       "| Guided participation in cultural activity by toddlers and caregivers /                                                                | 0 |\n",
       "| McGraw-Hill lectura /                                                                                                                 | 0 |\n",
       "| Accounting handbook /                                                                                                                 | 0 |\n",
       "| Collections :|a Harcourt reading program /                                                                                            | 0 |\n",
       "| Macmillan/McGraw-Hill reading/language arts :|a new view.                                                                             | 0 |\n",
       "| Vamos de fiesta! :|a Harcourt Spanish reading/language arts program /                                                                 | 0 |\n",
       "| Rosso in Italy :|the Italian career of Rosso Fiorentino /                                                                             | 0 |\n",
       "| Many peoples, one land :|a guide to new multicultural literature for children and young adults /                                      | 0 |\n",
       "| Conceptual revolutions /                                                                                                              | 0 |\n",
       "| Co-operation in international business :|the use of limited equity arrangements /                                                     | 0 |\n",
       "| Collections :|a Harcourt reading program /                                                                                            | 0 |\n",
       "| Early supplementary feeding and cognition :|effects over two decades /                                                                | 0 |\n",
       "| Vamos de fiesta! :|a Harcourt Spanish reading/language arts program /                                                                 | 0 |\n",
       "\n"
      ],
      "text/plain": [
       "     title                                                                                                                                \n",
       "1    Click, clack, moo :|cows that type /                                                                                                 \n",
       "2    The three pigs /                                                                                                                     \n",
       "3    Cook-a-doodle-doo! /                                                                                                                 \n",
       "4    Because of Winn-Dixie /                                                                                                              \n",
       "5    Uptown /                                                                                                                             \n",
       "6    Through my eyes /                                                                                                                    \n",
       "7    Bud, not Buddy /                                                                                                                     \n",
       "8    Brown bear, brown bear, what do you see? /                                                                                           \n",
       "9    A year down yonder /                                                                                                                 \n",
       "10   Wemberly worried /                                                                                                                   \n",
       "11   Oso pardo, oso pardo, qué ves ahí? /                                                                                                 \n",
       "12   Discrete mathematics with applications /                                                                                             \n",
       "13   Oh say can you seed? /                                                                                                               \n",
       "14   Art since 1940 :|strategies of being /                                                                                               \n",
       "15   Family /                                                                                                                             \n",
       "16   Calculus and analytic geometry /                                                                                                     \n",
       "17   The keeping quilt /                                                                                                                  \n",
       "18   Miss Spider's tea party /                                                                                                            \n",
       "19   There's no place like space /                                                                                                        \n",
       "20   Mufaro's beautiful daughters :|an African tale /                                                                                     \n",
       "21   100th day worries /                                                                                                                  \n",
       "22   The yellow star :|the legend of King Christian X of Denmark /                                                                        \n",
       "23   The tipping point :|how little things can make a big difference /                                                                    \n",
       "24   Cindy Ellen :|a wild western Cinderella /                                                                                            \n",
       "25   Apples /                                                                                                                             \n",
       "26   The hero with a thousand faces /                                                                                                     \n",
       "27   Where do balloons go? :|an uplifting mystery /                                                                                       \n",
       "28   Scott Foresman reading /                                                                                                             \n",
       "29   Math advantage /                                                                                                                     \n",
       "30   Roughing it on the Oregon Trail /                                                                                                    \n",
       "⋮    ⋮                                                                                                                                    \n",
       "6954 Vamos de fiesta! :|a Harcourt Spanish reading/language arts program /                                                                \n",
       "6955 Fearon's world history /                                                                                                             \n",
       "6956 National survey of problems and competencies among four- to sixteen-year-olds :|parents' reports for normative and clinical samples /\n",
       "6957 Prentice Hall middle grades math :|tools for success /                                                                               \n",
       "6958 Information literacy toolkit.                                                                                                        \n",
       "6959 Index to artistic biography.                                                                                                         \n",
       "6960 AWRA symposium on water resources and the World Wide Web, December 5-9, 1999, Seattle, Washington /                                  \n",
       "6961 May Sarton :|a bibliography /                                                                                                        \n",
       "6962 McGraw-Hill lectura /                                                                                                                \n",
       "6963 Glencoe matemáticas :|aplicaciones y conexiones /                                                                                    \n",
       "6964 Index to artistic biography.                                                                                                         \n",
       "6965 Library of Congress Africana collections :|an illustrated guide.                                                                     \n",
       "6966 McGraw-Hill lectura /                                                                                                                \n",
       "6967 SRA Open Court reading. /                                                                                                            \n",
       "6968 McGraw-Hill reading.                                                                                                                 \n",
       "6969 SRA Open Court reading. /                                                                                                            \n",
       "6970 McGraw-Hill reading.                                                                                                                 \n",
       "6971 Guided participation in cultural activity by toddlers and caregivers /                                                               \n",
       "6972 McGraw-Hill lectura /                                                                                                                \n",
       "6973 Accounting handbook /                                                                                                                \n",
       "6974 Collections :|a Harcourt reading program /                                                                                           \n",
       "6975 Macmillan/McGraw-Hill reading/language arts :|a new view.                                                                            \n",
       "6976 Vamos de fiesta! :|a Harcourt Spanish reading/language arts program /                                                                \n",
       "6977 Rosso in Italy :|the Italian career of Rosso Fiorentino /                                                                            \n",
       "6978 Many peoples, one land :|a guide to new multicultural literature for children and young adults /                                     \n",
       "6979 Conceptual revolutions /                                                                                                             \n",
       "6980 Co-operation in international business :|the use of limited equity arrangements /                                                    \n",
       "6981 Collections :|a Harcourt reading program /                                                                                           \n",
       "6982 Early supplementary feeding and cognition :|effects over two decades /                                                               \n",
       "6983 Vamos de fiesta! :|a Harcourt Spanish reading/language arts program /                                                                \n",
       "     tot_chkout\n",
       "1    113       \n",
       "2    106       \n",
       "3    103       \n",
       "4     79       \n",
       "5     69       \n",
       "6     63       \n",
       "7     63       \n",
       "8     61       \n",
       "9     47       \n",
       "10    43       \n",
       "11    41       \n",
       "12    40       \n",
       "13    39       \n",
       "14    39       \n",
       "15    39       \n",
       "16    39       \n",
       "17    38       \n",
       "18    38       \n",
       "19    36       \n",
       "20    36       \n",
       "21    35       \n",
       "22    35       \n",
       "23    35       \n",
       "24    34       \n",
       "25    34       \n",
       "26    34       \n",
       "27    34       \n",
       "28    34       \n",
       "29    34       \n",
       "30    33       \n",
       "⋮    ⋮         \n",
       "6954 0         \n",
       "6955 0         \n",
       "6956 0         \n",
       "6957 0         \n",
       "6958 0         \n",
       "6959 0         \n",
       "6960 0         \n",
       "6961 0         \n",
       "6962 0         \n",
       "6963 0         \n",
       "6964 0         \n",
       "6965 0         \n",
       "6966 0         \n",
       "6967 0         \n",
       "6968 0         \n",
       "6969 0         \n",
       "6970 0         \n",
       "6971 0         \n",
       "6972 0         \n",
       "6973 0         \n",
       "6974 0         \n",
       "6975 0         \n",
       "6976 0         \n",
       "6977 0         \n",
       "6978 0         \n",
       "6979 0         \n",
       "6980 0         \n",
       "6981 0         \n",
       "6982 0         \n",
       "6983 0         "
      ]
     },
     "execution_count": 22,
     "metadata": {
     },
     "output_type": "execute_result"
    }
   ],
   "source": [
    "myBooks <- books %>%\n",
    "  filter(format == \"book\") %>%\n",
    "  select(title, tot_chkout) %>%\n",
    "  arrange(desc(tot_chkout))\n",
    "myBooks"
   ]
  },
  {
   "cell_type": "markdown",
   "metadata": {
    "collapsed": false
   },
   "source": [
    "#### Exercise: Playing with pipes `%>%`\n",
    "\n",
    "1. Create a new data frame booksKids with these conditions:\n",
    "    - filter() to include subCollection juvenile & k-12 materials and format books.\n",
    "        - select() only title, call number, total checkouts, and publication year\n",
    "        - arrange() by total checkouts in descending order\n",
    "2. Use mean() to check the average number of checkouts for the booksJuv data frame."
   ]
  },
  {
   "cell_type": "markdown",
   "metadata": {
    "collapsed": false
   },
   "source": [
    "### Split-apply-combine data analysis and the `summarize()` function\n",
    "\n",
    "Many data analysis tasks can be approached using the split-apply-combine paradigm: split the data into groups, apply some analysis to each group, and then combine the results. `dplyr` makes this very easy through the use of the `group_by()` function.\n",
    "\n",
    "#### The summarize() function\n",
    "\n",
    "`group_by()` is often used together with `summarize()`, which collapses each group into a single-row summary of that group. `group_by()` takes as arguments the column names that contain the categorical variables for which you want to calculate the summary statistics.\n",
    "\n",
    "So to compute the average checkouts by format:"
   ]
  },
  {
   "cell_type": "code",
   "execution_count": 23,
   "metadata": {
    "collapsed": false
   },
   "outputs": [
    {
     "data": {
      "text/html": [
       "<table class=\"dataframe\">\n",
       "<caption>A tibble: 10 × 2</caption>\n",
       "<thead>\n",
       "\t<tr><th scope=col>format</th><th scope=col>mean_checkouts</th></tr>\n",
       "\t<tr><th scope=col>&lt;chr&gt;</th><th scope=col>&lt;dbl&gt;</th></tr>\n",
       "</thead>\n",
       "<tbody>\n",
       "\t<tr><td>book        </td><td> 3.227123013</td></tr>\n",
       "\t<tr><td>cd-rom      </td><td> 0.333333333</td></tr>\n",
       "\t<tr><td>database    </td><td> 0.000000000</td></tr>\n",
       "\t<tr><td>e-gov doc   </td><td> 0.040241449</td></tr>\n",
       "\t<tr><td>image       </td><td> 0.027522936</td></tr>\n",
       "\t<tr><td>kit/object  </td><td> 1.333333333</td></tr>\n",
       "\t<tr><td>map         </td><td>10.619047619</td></tr>\n",
       "\t<tr><td>microform   </td><td> 0.001216545</td></tr>\n",
       "\t<tr><td>online video</td><td> 0.000000000</td></tr>\n",
       "\t<tr><td>serial      </td><td> 0.000000000</td></tr>\n",
       "</tbody>\n",
       "</table>\n"
      ],
      "text/latex": [
       "A tibble: 10 × 2\n",
       "\\begin{tabular}{ll}\n",
       " format & mean\\_checkouts\\\\\n",
       " <chr> & <dbl>\\\\\n",
       "\\hline\n",
       "\t book         &  3.227123013\\\\\n",
       "\t cd-rom       &  0.333333333\\\\\n",
       "\t database     &  0.000000000\\\\\n",
       "\t e-gov doc    &  0.040241449\\\\\n",
       "\t image        &  0.027522936\\\\\n",
       "\t kit/object   &  1.333333333\\\\\n",
       "\t map          & 10.619047619\\\\\n",
       "\t microform    &  0.001216545\\\\\n",
       "\t online video &  0.000000000\\\\\n",
       "\t serial       &  0.000000000\\\\\n",
       "\\end{tabular}\n"
      ],
      "text/markdown": [
       "\n",
       "A tibble: 10 × 2\n",
       "\n",
       "| format &lt;chr&gt; | mean_checkouts &lt;dbl&gt; |\n",
       "|---|---|\n",
       "| book         |  3.227123013 |\n",
       "| cd-rom       |  0.333333333 |\n",
       "| database     |  0.000000000 |\n",
       "| e-gov doc    |  0.040241449 |\n",
       "| image        |  0.027522936 |\n",
       "| kit/object   |  1.333333333 |\n",
       "| map          | 10.619047619 |\n",
       "| microform    |  0.001216545 |\n",
       "| online video |  0.000000000 |\n",
       "| serial       |  0.000000000 |\n",
       "\n"
      ],
      "text/plain": [
       "   format       mean_checkouts\n",
       "1  book          3.227123013  \n",
       "2  cd-rom        0.333333333  \n",
       "3  database      0.000000000  \n",
       "4  e-gov doc     0.040241449  \n",
       "5  image         0.027522936  \n",
       "6  kit/object    1.333333333  \n",
       "7  map          10.619047619  \n",
       "8  microform     0.001216545  \n",
       "9  online video  0.000000000  \n",
       "10 serial        0.000000000  "
      ]
     },
     "execution_count": 23,
     "metadata": {
     },
     "output_type": "execute_result"
    }
   ],
   "source": [
    "books %>%\n",
    "  group_by(format) %>%\n",
    "  summarize(mean_checkouts = mean(tot_chkout))"
   ]
  },
  {
   "cell_type": "markdown",
   "metadata": {
    "collapsed": false
   },
   "source": [
    "Books and maps have the highest, and as we would expect, databases, online videos, and serials have zero checkouts.\n",
    "\n",
    "Here is a more complex example:"
   ]
  },
  {
   "cell_type": "code",
   "execution_count": 24,
   "metadata": {
    "collapsed": false
   },
   "outputs": [
    {
     "data": {
      "text/html": [
       "<table class=\"dataframe\">\n",
       "<caption>A tibble: 34 × 3</caption>\n",
       "<thead>\n",
       "\t<tr><th scope=col>call_class</th><th scope=col>count</th><th scope=col>sum_tot_chkout</th></tr>\n",
       "\t<tr><th scope=col>&lt;chr&gt;</th><th scope=col>&lt;int&gt;</th><th scope=col>&lt;dbl&gt;</th></tr>\n",
       "</thead>\n",
       "<tbody>\n",
       "\t<tr><td>E </td><td> 487</td><td>3114</td></tr>\n",
       "\t<tr><td>NA</td><td> 459</td><td>3024</td></tr>\n",
       "\t<tr><td>H </td><td>1142</td><td>2902</td></tr>\n",
       "\t<tr><td>P </td><td> 800</td><td>2645</td></tr>\n",
       "\t<tr><td>F </td><td> 240</td><td>1306</td></tr>\n",
       "\t<tr><td>Q </td><td> 333</td><td>1305</td></tr>\n",
       "\t<tr><td>B </td><td> 426</td><td>1233</td></tr>\n",
       "\t<tr><td>R </td><td> 193</td><td> 981</td></tr>\n",
       "\t<tr><td>L </td><td> 358</td><td> 862</td></tr>\n",
       "\t<tr><td>5 </td><td>  60</td><td> 838</td></tr>\n",
       "\t<tr><td>N </td><td> 289</td><td> 703</td></tr>\n",
       "\t<tr><td>D </td><td> 353</td><td> 690</td></tr>\n",
       "\t<tr><td>T </td><td> 165</td><td> 451</td></tr>\n",
       "\t<tr><td>3 </td><td>  56</td><td> 416</td></tr>\n",
       "\t<tr><td>Z </td><td> 189</td><td> 287</td></tr>\n",
       "\t<tr><td>G </td><td> 216</td><td> 265</td></tr>\n",
       "\t<tr><td>9 </td><td>  39</td><td> 247</td></tr>\n",
       "\t<tr><td>8 </td><td>  21</td><td> 242</td></tr>\n",
       "\t<tr><td>6 </td><td>  22</td><td> 225</td></tr>\n",
       "\t<tr><td>J </td><td> 228</td><td> 173</td></tr>\n",
       "\t<tr><td>K </td><td>  54</td><td> 113</td></tr>\n",
       "\t<tr><td>7 </td><td>  14</td><td>  92</td></tr>\n",
       "\t<tr><td>C </td><td>  98</td><td>  92</td></tr>\n",
       "\t<tr><td>M </td><td>  34</td><td>  89</td></tr>\n",
       "\t<tr><td>S </td><td> 251</td><td>  46</td></tr>\n",
       "\t<tr><td>U </td><td>  19</td><td>  41</td></tr>\n",
       "\t<tr><td>2 </td><td>   7</td><td>  39</td></tr>\n",
       "\t<tr><td>I </td><td> 272</td><td>  31</td></tr>\n",
       "\t<tr><td>4 </td><td>   3</td><td>  24</td></tr>\n",
       "\t<tr><td>1 </td><td>   3</td><td>  19</td></tr>\n",
       "\t<tr><td>A </td><td>  61</td><td>  18</td></tr>\n",
       "\t<tr><td>0 </td><td>   3</td><td>  11</td></tr>\n",
       "\t<tr><td>V </td><td>   5</td><td>   6</td></tr>\n",
       "\t<tr><td>Y </td><td>  83</td><td>   5</td></tr>\n",
       "</tbody>\n",
       "</table>\n"
      ],
      "text/latex": [
       "A tibble: 34 × 3\n",
       "\\begin{tabular}{lll}\n",
       " call\\_class & count & sum\\_tot\\_chkout\\\\\n",
       " <chr> & <int> & <dbl>\\\\\n",
       "\\hline\n",
       "\t E  &  487 & 3114\\\\\n",
       "\t NA &  459 & 3024\\\\\n",
       "\t H  & 1142 & 2902\\\\\n",
       "\t P  &  800 & 2645\\\\\n",
       "\t F  &  240 & 1306\\\\\n",
       "\t Q  &  333 & 1305\\\\\n",
       "\t B  &  426 & 1233\\\\\n",
       "\t R  &  193 &  981\\\\\n",
       "\t L  &  358 &  862\\\\\n",
       "\t 5  &   60 &  838\\\\\n",
       "\t N  &  289 &  703\\\\\n",
       "\t D  &  353 &  690\\\\\n",
       "\t T  &  165 &  451\\\\\n",
       "\t 3  &   56 &  416\\\\\n",
       "\t Z  &  189 &  287\\\\\n",
       "\t G  &  216 &  265\\\\\n",
       "\t 9  &   39 &  247\\\\\n",
       "\t 8  &   21 &  242\\\\\n",
       "\t 6  &   22 &  225\\\\\n",
       "\t J  &  228 &  173\\\\\n",
       "\t K  &   54 &  113\\\\\n",
       "\t 7  &   14 &   92\\\\\n",
       "\t C  &   98 &   92\\\\\n",
       "\t M  &   34 &   89\\\\\n",
       "\t S  &  251 &   46\\\\\n",
       "\t U  &   19 &   41\\\\\n",
       "\t 2  &    7 &   39\\\\\n",
       "\t I  &  272 &   31\\\\\n",
       "\t 4  &    3 &   24\\\\\n",
       "\t 1  &    3 &   19\\\\\n",
       "\t A  &   61 &   18\\\\\n",
       "\t 0  &    3 &   11\\\\\n",
       "\t V  &    5 &    6\\\\\n",
       "\t Y  &   83 &    5\\\\\n",
       "\\end{tabular}\n"
      ],
      "text/markdown": [
       "\n",
       "A tibble: 34 × 3\n",
       "\n",
       "| call_class &lt;chr&gt; | count &lt;int&gt; | sum_tot_chkout &lt;dbl&gt; |\n",
       "|---|---|---|\n",
       "| E  |  487 | 3114 |\n",
       "| NA |  459 | 3024 |\n",
       "| H  | 1142 | 2902 |\n",
       "| P  |  800 | 2645 |\n",
       "| F  |  240 | 1306 |\n",
       "| Q  |  333 | 1305 |\n",
       "| B  |  426 | 1233 |\n",
       "| R  |  193 |  981 |\n",
       "| L  |  358 |  862 |\n",
       "| 5  |   60 |  838 |\n",
       "| N  |  289 |  703 |\n",
       "| D  |  353 |  690 |\n",
       "| T  |  165 |  451 |\n",
       "| 3  |   56 |  416 |\n",
       "| Z  |  189 |  287 |\n",
       "| G  |  216 |  265 |\n",
       "| 9  |   39 |  247 |\n",
       "| 8  |   21 |  242 |\n",
       "| 6  |   22 |  225 |\n",
       "| J  |  228 |  173 |\n",
       "| K  |   54 |  113 |\n",
       "| 7  |   14 |   92 |\n",
       "| C  |   98 |   92 |\n",
       "| M  |   34 |   89 |\n",
       "| S  |  251 |   46 |\n",
       "| U  |   19 |   41 |\n",
       "| 2  |    7 |   39 |\n",
       "| I  |  272 |   31 |\n",
       "| 4  |    3 |   24 |\n",
       "| 1  |    3 |   19 |\n",
       "| A  |   61 |   18 |\n",
       "| 0  |    3 |   11 |\n",
       "| V  |    5 |    6 |\n",
       "| Y  |   83 |    5 |\n",
       "\n"
      ],
      "text/plain": [
       "   call_class count sum_tot_chkout\n",
       "1  E           487  3114          \n",
       "2  NA          459  3024          \n",
       "3  H          1142  2902          \n",
       "4  P           800  2645          \n",
       "5  F           240  1306          \n",
       "6  Q           333  1305          \n",
       "7  B           426  1233          \n",
       "8  R           193   981          \n",
       "9  L           358   862          \n",
       "10 5            60   838          \n",
       "11 N           289   703          \n",
       "12 D           353   690          \n",
       "13 T           165   451          \n",
       "14 3            56   416          \n",
       "15 Z           189   287          \n",
       "16 G           216   265          \n",
       "17 9            39   247          \n",
       "18 8            21   242          \n",
       "19 6            22   225          \n",
       "20 J           228   173          \n",
       "21 K            54   113          \n",
       "22 7            14    92          \n",
       "23 C            98    92          \n",
       "24 M            34    89          \n",
       "25 S           251    46          \n",
       "26 U            19    41          \n",
       "27 2             7    39          \n",
       "28 I           272    31          \n",
       "29 4             3    24          \n",
       "30 1             3    19          \n",
       "31 A            61    18          \n",
       "32 0             3    11          \n",
       "33 V             5     6          \n",
       "34 Y            83     5          "
      ]
     },
     "execution_count": 24,
     "metadata": {
     },
     "output_type": "execute_result"
    }
   ],
   "source": [
    "books %>% \n",
    "  filter(format == \"book\") %>%\n",
    "  mutate(call_class = str_sub(callnumber, 1, 1)) %>%\n",
    "  group_by(call_class) %>%\n",
    "  summarize(count = n(),\n",
    "            sum_tot_chkout = sum(tot_chkout)) %>%\n",
    "  arrange(desc(sum_tot_chkout))"
   ]
  },
  {
   "cell_type": "markdown",
   "metadata": {
    "collapsed": false
   },
   "source": [
    "Let’s break this down step by step:\n",
    "\n",
    "- First we call the `books` data frame\n",
    "- We then pipe through `filter()` to include only books\n",
    "- We then create a new column with `mutate()` called `call_class` by using the `str_sub()` function to keep the first character of the `call_number` variable\n",
    "- We then `group_by()` our newly created `call_class` variable\n",
    "- We then create two summary columns by using `summarize()`\n",
    "    - take the number `n()` of items per `call_class` and assign it to a column called `count`\n",
    "    - take the the `sum()` of `tot_chkout` per `call_class` and assign the result to a column called `sum_tot_chkout`\n",
    "- Finally, we arrange `sum_tot_chkout` in descending order, so we can see the class with the most total checkouts. We can see it is the `E` class (History of America), followed by `NA` (items with no call number data), followed by `H` (Social Sciences) and `P` (Language and Literature)."
   ]
  },
  {
   "cell_type": "markdown",
   "metadata": {
    "collapsed": false
   },
   "source": [
    "### Exporting data\n",
    "\n",
    "Now that you have learned how to use `dplyr` to extract information from or summarize your raw data, you may want to export these new data sets to share them with your collaborators or for archival.\n",
    "\n",
    "Similar to the `read_csv()` function used for reading CSV files into R, there is a `write_csv()` function that generates CSV files from data frames.\n",
    "\n",
    "Before using `write_csv()`, we are going to create a new folder, `data_output`, in our working directory that will store this generated dataset. We don’t want to write generated datasets in the same directory as our raw data. It’s good practice to keep them separate. The `data` folder should only contain the raw, unaltered data, and should be left alone to make sure we don’t delete or modify it. In contrast, our script will generate the contents of the `data_output` directory, so even if the files it contains are deleted, we can always re-generate them.\n",
    "\n",
    "In preparation for our next lesson on plotting, we are going to create a version of the dataset with most of the changes we made above. We will first read in the original, then make all the changes with pipes.\n",
    "\n"
   ]
  },
  {
   "cell_type": "code",
   "execution_count": 25,
   "metadata": {
    "collapsed": false
   },
   "outputs": [
    {
     "name": "stderr",
     "output_type": "stream",
     "text": [
      "\n",
      "\u001b[36m──\u001b[39m \u001b[1m\u001b[1mColumn specification\u001b[1m\u001b[22m \u001b[36m────────────────────────────────────────────────────────\u001b[39m\n",
      "cols(\n",
      "  CALL...BIBLIO. = \u001b[31mcol_character()\u001b[39m,\n",
      "  X245.ab = \u001b[31mcol_character()\u001b[39m,\n",
      "  X245.c = \u001b[31mcol_character()\u001b[39m,\n",
      "  LOCATION = \u001b[31mcol_character()\u001b[39m,\n",
      "  TOT.CHKOUT = \u001b[32mcol_double()\u001b[39m,\n",
      "  LOUTDATE = \u001b[31mcol_character()\u001b[39m,\n",
      "  SUBJECT = \u001b[31mcol_character()\u001b[39m,\n",
      "  ISN = \u001b[31mcol_character()\u001b[39m,\n",
      "  CALL...ITEM. = \u001b[31mcol_character()\u001b[39m,\n",
      "  X008.Date.One = \u001b[31mcol_character()\u001b[39m,\n",
      "  BCODE2 = \u001b[31mcol_character()\u001b[39m,\n",
      "  BCODE1 = \u001b[31mcol_character()\u001b[39m\n",
      ")\n",
      "\n",
      "\n"
     ]
    },
    {
     "name": "stderr",
     "output_type": "stream",
     "text": [
      "Warning message in mask$eval_all_mutate(quo):\n",
      "“NAs introduced by coercion”\n"
     ]
    }
   ],
   "source": [
    "books_reformatted <- read_csv(\"./data/books.csv\") %>%\n",
    "  rename(title = X245.ab,\n",
    "         author = X245.c,\n",
    "         callnumber = CALL...BIBLIO.,\n",
    "         isbn = ISN,\n",
    "         pubyear = X008.Date.One,\n",
    "         subCollection = BCODE1,\n",
    "         format = BCODE2,\n",
    "         location = LOCATION,\n",
    "         tot_chkout = TOT.CHKOUT,\n",
    "         loutdate = LOUTDATE,\n",
    "         subject = SUBJECT,\n",
    "         callnumber2 = CALL...ITEM.) %>%\n",
    "  mutate(pubyear = as.integer(pubyear),\n",
    "         call_class = str_sub(callnumber, 1, 1),\n",
    "         subCollection = recode(subCollection,\n",
    "                                \"-\" = \"general collection\",\n",
    "                                u = \"government documents\",\n",
    "                                r = \"reference\",\n",
    "                                b = \"k-12 materials\",\n",
    "                                j = \"juvenile\",\n",
    "                                s = \"special collections\",\n",
    "                                c = \"computer files\",\n",
    "                                t = \"theses\",\n",
    "                                a = \"archives\",\n",
    "                                z = \"reserves\"),\n",
    "         format = recode(format,\n",
    "                         a = \"book\",\n",
    "                         e = \"serial\",\n",
    "                         w = \"microform\",\n",
    "                         s = \"e-gov doc\",\n",
    "                         o = \"map\",\n",
    "                         n = \"database\",\n",
    "                         k = \"cd-rom\",\n",
    "                         m = \"image\",\n",
    "                         \"5\" = \"kit/object\",\n",
    "                         \"4\" = \"online video\"))"
   ]
  },
  {
   "cell_type": "markdown",
   "metadata": {
    "collapsed": false
   },
   "source": [
    "This chunk of code read the CSV, renamed the variables, used `mutate()` in combination with `recode()` to recode the `format` and `subCollection` values, used `mutate()` in combination with `as.integer()` to coerce `pubyear` to integer, and used `mutate()` in combination with `str_sub` to create the new varable `call_class`.\n",
    "\n",
    "We now write it to a CSV and put it in the `data/output` sub-directory:"
   ]
  },
  {
   "cell_type": "code",
   "execution_count": 26,
   "metadata": {
    "collapsed": false
   },
   "outputs": [
   ],
   "source": [
    "write_csv(books_reformatted, \"./data_output/books_reformatted.csv\")"
   ]
  },
  {
   "cell_type": "markdown",
   "metadata": {
    "collapsed": false
   },
   "source": [
    "## Help with dplyr\n",
    "- Read more about dplyr at https://dplyr.tidyverse.org/.\n",
    "- In your console, after loading library(dplyr), run vignette(\"dplyr\") to read an extremely helpful explanation of how to use it.\n",
    "- See the http://r4ds.had.co.nz/transform.html in Garrett Grolemund and Hadley Wickham’s book R for Data Science.\n",
    "- Watch this Data School video: https://www.youtube.com/watch?v=jWjqLW-u3hc\n",
    "\n",
    "### Key Points\n",
    "\n",
    "- Use the dplyr package to manipulate dataframes.\n",
    "- Use select() to choose variables from a dataframe.\n",
    "- Use filter() to choose data based on values.\n",
    "Use group_by() and summarize() to work with subsets of data.\n",
    "Use mutate() to create new variables."
   ]
  }
 ],
 "metadata": {
  "kernelspec": {
   "display_name": "R (system-wide)",
   "language": "r",
   "metadata": {
    "cocalc": {
     "description": "R statistical programming language",
     "priority": 10,
     "url": "https://www.r-project.org/"
    }
   },
   "name": "ir",
   "resource_dir": "/ext/jupyter/kernels/ir"
  },
  "language_info": {
   "codemirror_mode": "r",
   "file_extension": ".r",
   "mimetype": "text/x-r-source",
   "name": "R",
   "pygments_lexer": "r",
   "version": "4.0.5"
  }
 },
 "nbformat": 4,
 "nbformat_minor": 4
}