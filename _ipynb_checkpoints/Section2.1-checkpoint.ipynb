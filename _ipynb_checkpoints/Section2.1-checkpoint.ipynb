{
 "cells": [
  {
   "cell_type": "markdown",
   "metadata": {
    "collapsed": false
   },
   "source": [
    "# Introduction to R\n",
    "\n",
    "**Questions**\n",
    "- What is an object?\n",
    "- What is a function and how can we pass arguments to functions?\n",
    "- How can values be initially assigned to variables of different data types?\n",
    "- How can a vector be created What are the available data types?\n",
    "- How can subsets be extracted from vectors?\n",
    "- How does R treat missing values?\n",
    "- How can we deal with missing values in R?\n",
    "\n",
    "**Objectives**\n",
    "- Assign values to objects in R.\n",
    "- Learn how to name objects.\n",
    "- Use comments to inform script.\n",
    "- Solve simple arithmetic operations in R.\n",
    "- Call functions and use arguments to change their default options.\n",
    "- Inspect the content of vectors and manipulate their content.\n",
    "- Subset and extract values from vectors.\n",
    "- Analyze vectors with missing data.\n",
    "- Define the following terms as they relate to R: object, vector, assign, call, function."
   ]
  },
  {
   "cell_type": "markdown",
   "metadata": {
    "collapsed": false
   },
   "source": [
    "## Variable\n",
    "\n",
    "In R, information is stored as variables. These variables can be numerical, sets, text, dates, and can be more complex like graphs and datasets (which will be covered later)\n",
    "\n",
    "To store something as a variable, we can use either \"<-\" or \"=\". But most commonly used is the \"<-\", in general its good practice."
   ]
  },
  {
   "cell_type": "markdown",
   "metadata": {
    "collapsed": false
   },
   "source": [
    "> NOTE: \"<-\" are not the same thing \"->\""
   ]
  },
  {
   "cell_type": "code",
   "execution_count": 1,
   "metadata": {
    "collapsed": false
   },
   "outputs": [
   ],
   "source": [
    "temperature <- 27"
   ]
  },
  {
   "cell_type": "markdown",
   "metadata": {
    "collapsed": false
   },
   "source": [
    "\"<-\" is an assignment operator. It assigns the value(s) on the right to the object(s) on the left. The example above creates the symbol called temperature  and assigns it the numeric value of 27. Some R users would say “temperature  gets 27.” time_minutes is now a numeric vector with one element. Or you could say temperature  is a numeric vector, and the first element is the number 27.\n",
    "\n",
    "When assigning a value to an object, R does not print anything to the console. You can force R to print the value by using parentheses OR by typing the object name"
   ]
  },
  {
   "cell_type": "code",
   "execution_count": 2,
   "metadata": {
    "collapsed": false
   },
   "outputs": [
    {
     "data": {
      "text/html": [
       "27"
      ],
      "text/latex": [
       "27"
      ],
      "text/markdown": [
       "27"
      ],
      "text/plain": [
       "[1] 27"
      ]
     },
     "execution_count": 2,
     "metadata": {
     },
     "output_type": "execute_result"
    },
    {
     "data": {
      "text/html": [
       "27"
      ],
      "text/latex": [
       "27"
      ],
      "text/markdown": [
       "27"
      ],
      "text/plain": [
       "[1] 27"
      ]
     },
     "execution_count": 2,
     "metadata": {
     },
     "output_type": "execute_result"
    }
   ],
   "source": [
    "#method 1\n",
    "(temperature <- 27 )\n",
    "\n",
    "#method 2\n",
    "temperature"
   ]
  },
  {
   "cell_type": "markdown",
   "metadata": {
    "collapsed": false
   },
   "source": [
    "> NOTE: You can give your objects any name, but it is recommended to that the names be explicit and not too long. Here are some tips for assigning values:\n",
    "    \n",
    "    -Do not use names of functions that already exist in R: There are some names that cannot be used because they are the names of fundamental   functions in R (e.g., if, else, for, see here for a complete list. In general, even if it’s allowed, it’s best to not use other function names (e.g., c, T, mean, data, df, weights). If in doubt, check the help to see if the name is already in use.\n",
    "      \n",
    "    -R is case sensitive: age is different from Age and y is different from Y.\n",
    "\n",
    "    -No blank spaces or symbols other than underscores: R users get around this in a couple of ways, either through capitalization (e.g. myData) or underscores (e.g. my_data). It’s also best to avoid dots (.) within an object name as in my.dataset. There are many functions in R with dots in their names for historical reasons, but dots have a special meaning in R (for methods) and other programming languages.\n",
    "\n",
    "    -Do not begin with numbers or symbols: 2x is not valid, but x2 is.\n",
    "\n",
    "    -Be descriptive, but make your variable names short: It’s good practice to be descriptive with your variable names. If you’re loading in a lot of data, choosing myData or x as a name may not be as helpful as, say, ebookUsage. Finally, keep your variable names short, since you will likely be typing them in frequently."
   ]
  },
  {
   "cell_type": "markdown",
   "metadata": {
    "collapsed": false
   },
   "source": [
    "We can store strings and text as variables. This is done by using \"\". Store your first and last name as well as your favourit colour below in between the quotes."
   ]
  },
  {
   "cell_type": "code",
   "execution_count": 3,
   "metadata": {
    "collapsed": false
   },
   "outputs": [
   ],
   "source": [
    "nameFirst <- \" \"\n",
    "nameLast <- \" \"\n",
    "colour <- \" \""
   ]
  },
  {
   "cell_type": "markdown",
   "metadata": {
    "collapsed": false
   },
   "source": [
    "We may include variables in arithmetic expressions.  These variables need to have a value that was assigned previously by some assignment operation. R will substitute the variable name by the respective value when solving the expression that contain these variables.  If you include a variable that does not exist (e.g.  you mispelled the name),R will generate an error saying that it does not know the value of that variable"
   ]
  },
  {
   "cell_type": "code",
   "execution_count": 4,
   "metadata": {
    "collapsed": false
   },
   "outputs": [
   ],
   "source": [
    "tempFarh <- temperature * 9/5 +32"
   ]
  },
  {
   "cell_type": "code",
   "execution_count": 5,
   "metadata": {
    "collapsed": false
   },
   "outputs": [
    {
     "ename": "ERROR",
     "evalue": "Error in eval(expr, envir, enclos): object 'tempfarh' not found\n",
     "output_type": "error",
     "traceback": [
      "Error in eval(expr, envir, enclos): object 'tempfarh' not found\nTraceback:\n"
     ]
    }
   ],
   "source": [
    "#incorrect call\n",
    "tempfarh"
   ]
  },
  {
   "cell_type": "markdown",
   "metadata": {
    "collapsed": false
   },
   "source": [
    "If you sometimes forget what variables you already used, you can use the ls() function to list all what is currently stored in memory. It will only give you the variable names and not the values stored. "
   ]
  },
  {
   "cell_type": "code",
   "execution_count": 6,
   "metadata": {
    "collapsed": false
   },
   "outputs": [
    {
     "data": {
      "text/html": [
       "<style>\n",
       ".list-inline {list-style: none; margin:0; padding: 0}\n",
       ".list-inline>li {display: inline-block}\n",
       ".list-inline>li:not(:last-child)::after {content: \"\\00b7\"; padding: 0 .5ex}\n",
       "</style>\n",
       "<ol class=list-inline><li>'colour'</li><li>'nameFirst'</li><li>'nameLast'</li><li>'temperature'</li><li>'tempFarh'</li></ol>\n"
      ],
      "text/latex": [
       "\\begin{enumerate*}\n",
       "\\item 'colour'\n",
       "\\item 'nameFirst'\n",
       "\\item 'nameLast'\n",
       "\\item 'temperature'\n",
       "\\item 'tempFarh'\n",
       "\\end{enumerate*}\n"
      ],
      "text/markdown": [
       "1. 'colour'\n",
       "2. 'nameFirst'\n",
       "3. 'nameLast'\n",
       "4. 'temperature'\n",
       "5. 'tempFarh'\n",
       "\n",
       "\n"
      ],
      "text/plain": [
       "[1] \"colour\"      \"nameFirst\"   \"nameLast\"    \"temperature\" \"tempFarh\"   "
      ]
     },
     "execution_count": 6,
     "metadata": {
     },
     "output_type": "execute_result"
    }
   ],
   "source": [
    "ls()"
   ]
  },
  {
   "cell_type": "markdown",
   "metadata": {
    "collapsed": false
   },
   "source": [
    "We can also change an object’s value by assigning it a new one. This overwrites the previous value without prompting you, so be careful! Also, assigning a value to one object does not change the values of other objects. \n",
    "\n",
    "Lets take a look at an example"
   ]
  },
  {
   "cell_type": "code",
   "execution_count": 7,
   "metadata": {
    "collapsed": false
   },
   "outputs": [
    {
     "data": {
      "text/html": [
       "27"
      ],
      "text/latex": [
       "27"
      ],
      "text/markdown": [
       "27"
      ],
      "text/plain": [
       "[1] 27"
      ]
     },
     "execution_count": 7,
     "metadata": {
     },
     "output_type": "execute_result"
    },
    {
     "data": {
      "text/html": [
       "80.6"
      ],
      "text/latex": [
       "80.6"
      ],
      "text/markdown": [
       "80.6"
      ],
      "text/plain": [
       "[1] 80.6"
      ]
     },
     "execution_count": 7,
     "metadata": {
     },
     "output_type": "execute_result"
    },
    {
     "data": {
      "text/html": [
       "88"
      ],
      "text/latex": [
       "88"
      ],
      "text/markdown": [
       "88"
      ],
      "text/plain": [
       "[1] 88"
      ]
     },
     "execution_count": 7,
     "metadata": {
     },
     "output_type": "execute_result"
    }
   ],
   "source": [
    "#first temperature set to 27 degrees Celsius\n",
    "(temperature <- 27)\n",
    "\n",
    "#convert to farhenheit\n",
    "(tempFarh <- temperature * 9/5 +32)\n",
    "\n",
    "#changing temperture to 88 degrees Celsius\n",
    "(temperature <- 88)\n"
   ]
  },
  {
   "cell_type": "markdown",
   "metadata": {
    "collapsed": false
   },
   "source": [
    "If we run tempFarh, what will we get?\n",
    "- 80.6\n",
    "- 190.4\n",
    "- Error\n",
    "- No idea"
   ]
  },
  {
   "cell_type": "code",
   "execution_count": 8,
   "metadata": {
    "collapsed": false
   },
   "outputs": [
    {
     "data": {
      "text/html": [
       "80.6"
      ],
      "text/latex": [
       "80.6"
      ],
      "text/markdown": [
       "80.6"
      ],
      "text/plain": [
       "[1] 80.6"
      ]
     },
     "execution_count": 8,
     "metadata": {
     },
     "output_type": "execute_result"
    }
   ],
   "source": [
    "tempFarh"
   ]
  },
  {
   "cell_type": "markdown",
   "metadata": {
    "collapsed": false
   },
   "source": [
    "To correct this, we re-run the equation for the conversion. "
   ]
  },
  {
   "cell_type": "code",
   "execution_count": 9,
   "metadata": {
    "collapsed": false
   },
   "outputs": [
    {
     "data": {
      "text/html": [
       "190.4"
      ],
      "text/latex": [
       "190.4"
      ],
      "text/markdown": [
       "190.4"
      ],
      "text/plain": [
       "[1] 190.4"
      ]
     },
     "execution_count": 9,
     "metadata": {
     },
     "output_type": "execute_result"
    }
   ],
   "source": [
    "(tempFarh <- temperature * 9/5 +32)"
   ]
  },
  {
   "cell_type": "markdown",
   "metadata": {
    "collapsed": false
   },
   "source": [
    "## Commenting\n",
    "\n",
    "All programming languages allow the programmer to include comments in their code. To do this in R we use the # character. Anything to the right of the # sign and up to the end of the line is treated as a comment and will not be evaluated by R. You can start lines with comments or include them after any code on the line.\n",
    "\n",
    "Comments are essential to helping you remember what your code does, and explaining it to others. Commenting code, along with documenting how data is collected and explaining what each variable represents, is essential to reproducible research"
   ]
  },
  {
   "cell_type": "code",
   "execution_count": 10,
   "metadata": {
    "collapsed": false
   },
   "outputs": [
   ],
   "source": [
    "temperatureMorning <- 23       #morning temperature taken at 7AM\n",
    "temperatureAfternoon <- 33     #afternoon temperature taken at 1PM\n",
    "temperatureEvening <-20        #evening temperature taken at 5PM\n",
    "tempertureNight <- 5           #night temperature taken at 9PM\n",
    "\n",
    "tempFarh <- temperature * 9/5 +32   #convert a Celcius temp to Fahrenhait"
   ]
  },
  {
   "cell_type": "markdown",
   "metadata": {
    "collapsed": false
   },
   "source": [
    "RStudio makes it easy to comment or uncomment a paragraph: after selecting the lines you want to comment, press at the same time on your keyboard Ctrl + Shift + C. If you only want to comment out one line, you can put the cursor at any location of that line (i.e. no need to select the whole line), then press Ctrl + Shift + C."
   ]
  },
  {
   "cell_type": "code",
   "execution_count": 11,
   "metadata": {
    "collapsed": false
   },
   "outputs": [
   ],
   "source": [
    "temperatureMorning <- 23       #morning temperature taken at 7AM\n",
    "temperatureAfternoon <- 33     #afternoon temperature taken at 1PM\n",
    "temperatureEvening <-20        #evening temperature taken at 5PM\n",
    "tempertureNight <- 5           #night temperature taken at 9PM\n",
    "\n",
    "tempFarh <- temperature * 9/5 +32   #convert a Celcius temp to Fahrenhait"
   ]
  },
  {
   "cell_type": "markdown",
   "metadata": {
    "collapsed": false
   },
   "source": [
    "#### EXERCISE 2.1\n",
    "\n",
    "Create two variables length and width and assign them any values. Create a third variable area and give it a value based on the current values of length and width."
   ]
  },
  {
   "cell_type": "code",
   "execution_count": 12,
   "metadata": {
    "collapsed": false
   },
   "outputs": [
    {
     "data": {
      "text/html": [
       "8"
      ],
      "text/latex": [
       "8"
      ],
      "text/markdown": [
       "8"
      ],
      "text/plain": [
       "[1] 8"
      ]
     },
     "execution_count": 12,
     "metadata": {
     },
     "output_type": "execute_result"
    }
   ],
   "source": [
    "#Exercise 2.1\n",
    "length <- 2.5\n",
    "width <- 3.2\n",
    "area <- length * width\n",
    "area"
   ]
  },
  {
   "cell_type": "markdown",
   "metadata": {
    "collapsed": false
   },
   "source": [
    "What happens when you change the values of length and width with the code below?"
   ]
  },
  {
   "cell_type": "code",
   "execution_count": 13,
   "metadata": {
    "collapsed": false
   },
   "outputs": [
    {
     "data": {
      "text/html": [
       "8"
      ],
      "text/latex": [
       "8"
      ],
      "text/markdown": [
       "8"
      ],
      "text/plain": [
       "[1] 8"
      ]
     },
     "execution_count": 13,
     "metadata": {
     },
     "output_type": "execute_result"
    }
   ],
   "source": [
    "length <- 7\n",
    "width <- 6\n",
    "area"
   ]
  },
  {
   "cell_type": "markdown",
   "metadata": {
    "collapsed": false
   },
   "source": [
    "What happened here is that you did not update the area variable. You need to run the area equation again to reassign area to a new length and width."
   ]
  },
  {
   "cell_type": "markdown",
   "metadata": {
    "collapsed": false
   },
   "source": [
    "## Functions and their arguments\n",
    "\n",
    "R is a “functional programming language,” meaning it contains a number of functions you use to do something with your data. Functions are “canned scripts” that automate more complicated sets of commands. Many functions are predefined, or can be made available by importing R packages as we saw in the “Before We Start” lesson.\n",
    "\n",
    "Call a function on a variable by entering the function into the console, followed by parentheses and the variables. A function usually gets one or more inputs called arguments. For example, if you want to take the sum of 3 and 4, you can type in sum(3, 4). In this case, the arguments must be a number, and the return value (the output) is the sum of those numbers. An example of a function call is:\n",
    "\n"
   ]
  },
  {
   "cell_type": "code",
   "execution_count": 14,
   "metadata": {
    "collapsed": false
   },
   "outputs": [
    {
     "data": {
      "text/html": [
       "7"
      ],
      "text/latex": [
       "7"
      ],
      "text/markdown": [
       "7"
      ],
      "text/plain": [
       "[1] 7"
      ]
     },
     "execution_count": 14,
     "metadata": {
     },
     "output_type": "execute_result"
    }
   ],
   "source": [
    "sum(3,4)"
   ]
  },
  {
   "cell_type": "markdown",
   "metadata": {
    "collapsed": false
   },
   "source": [
    "The function is.function() will check if an argument is a function in R. If it is a function, it will print TRUE to the console.\n",
    "\n",
    "Functions can be nested within each other. For example, sqrt() takes the square root of the number provided in the function call. Therefore you can run sum(sqrt(9), 4) to take the sum of the square root of 9 and add it to 4.\n",
    "\n",
    "Typing a question mark before a function will pull the help page up in the Navigation Pane in the lower right. Type ?sum to view the help page for the sum function. You can also call help(sum). This will provide the description of the function, how it is to be used, and the arguments.\n",
    "\n",
    "In the case of sum(), the ellipses . . . represent an unlimited number of numeric elements."
   ]
  },
  {
   "cell_type": "code",
   "execution_count": 32,
   "metadata": {
    "collapsed": false
   },
   "outputs": [
   ],
   "source": [
    "#?sum()"
   ]
  },
  {
   "cell_type": "code",
   "execution_count": 16,
   "metadata": {
    "collapsed": false
   },
   "outputs": [
    {
     "data": {
      "text/html": [
       "TRUE"
      ],
      "text/latex": [
       "TRUE"
      ],
      "text/markdown": [
       "TRUE"
      ],
      "text/plain": [
       "[1] TRUE"
      ]
     },
     "execution_count": 16,
     "metadata": {
     },
     "output_type": "execute_result"
    },
    {
     "data": {
      "text/html": [
       "25"
      ],
      "text/latex": [
       "25"
      ],
      "text/markdown": [
       "25"
      ],
      "text/plain": [
       "[1] 25"
      ]
     },
     "execution_count": 16,
     "metadata": {
     },
     "output_type": "execute_result"
    }
   ],
   "source": [
    "is.function(sum)        # check to see if sum() is a function\n",
    "sum(3, 4, 5, 6, 7)      # sum takes an unlimited number (. . .) of numeric elements\n"
   ]
  },
  {
   "cell_type": "markdown",
   "metadata": {
    "collapsed": false
   },
   "source": [
    "Here are examples of some other frequently used functions:"
   ]
  },
  {
   "cell_type": "code",
   "execution_count": 17,
   "metadata": {
    "collapsed": false
   },
   "outputs": [
    {
     "data": {
      "text/html": [
       "23.3023603954621"
      ],
      "text/latex": [
       "23.3023603954621"
      ],
      "text/markdown": [
       "23.3023603954621"
      ],
      "text/plain": [
       "[1] 23.30236"
      ]
     },
     "execution_count": 17,
     "metadata": {
     },
     "output_type": "execute_result"
    },
    {
     "data": {
      "text/html": [
       "2.50959926237837"
      ],
      "text/latex": [
       "2.50959926237837"
      ],
      "text/markdown": [
       "2.50959926237837"
      ],
      "text/plain": [
       "[1] 2.509599"
      ]
     },
     "execution_count": 17,
     "metadata": {
     },
     "output_type": "execute_result"
    },
    {
     "data": {
      "text/html": [
       "3"
      ],
      "text/latex": [
       "3"
      ],
      "text/markdown": [
       "3"
      ],
      "text/plain": [
       "[1] 3"
      ]
     },
     "execution_count": 17,
     "metadata": {
     },
     "output_type": "execute_result"
    },
    {
     "data": {
      "text/html": [
       "0.198669330795061"
      ],
      "text/latex": [
       "0.198669330795061"
      ],
      "text/markdown": [
       "0.198669330795061"
      ],
      "text/plain": [
       "[1] 0.1986693"
      ]
     },
     "execution_count": 17,
     "metadata": {
     },
     "output_type": "execute_result"
    }
   ],
   "source": [
    "#sqrt(x) : Returns the square root of x\n",
    "sqrt(543)\n",
    "\n",
    "#log(x, base=y) : Takes the logarithm of x with base y; if base is not specified, returns the natural logarithm\n",
    "log(12.3)\n",
    "log(8, base=2)\n",
    "\n",
    "#sin(x) :  returns sine of an angle NOTE: angles are in radians\n",
    "sin(0.2)\n"
   ]
  },
  {
   "cell_type": "markdown",
   "metadata": {
    "collapsed": false
   },
   "source": [
    "Lets complicate things a little. You can use functions within functions, but be careful of your brackets! When possible declare your variable externally, then call on them in the funtion. This function here uses the unit circle to find the angle. We are using the coordinates\n",
    "\n",
    "( $\\frac{\\sqrt{3}}{2}$ , $\\frac{1}{2}$ ) \n",
    "This will return an result close to $\\frac {\\pi}{6}$ or 30$^{\\circ}$\n",
    "\n",
    "The point here is not to quiz you on the unit circle, but rather to show that it is best to break down complicated functions. "
   ]
  },
  {
   "cell_type": "code",
   "execution_count": 18,
   "metadata": {
    "collapsed": false
   },
   "outputs": [
    {
     "data": {
      "text/html": [
       "0.545805614673243"
      ],
      "text/latex": [
       "0.545805614673243"
      ],
      "text/markdown": [
       "0.545805614673243"
      ],
      "text/plain": [
       "[1] 0.5458056"
      ]
     },
     "execution_count": 18,
     "metadata": {
     },
     "output_type": "execute_result"
    },
    {
     "data": {
      "text/html": [
       "0.545805614673243"
      ],
      "text/latex": [
       "0.545805614673243"
      ],
      "text/markdown": [
       "0.545805614673243"
      ],
      "text/plain": [
       "[1] 0.5458056"
      ]
     },
     "execution_count": 18,
     "metadata": {
     },
     "output_type": "execute_result"
    }
   ],
   "source": [
    "#method 1\n",
    "a=0.5\n",
    "b=sqrt(3)/2\n",
    "\n",
    "sin( a/b  )\n",
    "\n",
    "#method 2\n",
    "sin( (0.5) / (sqrt(3)/2) )"
   ]
  },
  {
   "cell_type": "markdown",
   "metadata": {
    "collapsed": false
   },
   "source": [
    "## Arguments\n",
    "Some functions take arguments which may either be specified by the user, or, if left out, take on a default value. However, if you want something specific, you can specify a value of your choice which will be used instead of the default. This is called passing an argument to the function.\n",
    "\n",
    "For example, sum() takes the argument option na.rm. If you check the help page for sum (call ?sum), you can see that na.rm requires a logical (TRUE/FALSE) value specifying whether NA values (missing data) should be removed when the argument is evaluated.\n",
    "\n",
    "By default, na.rm is set to FALSE, so evaluating a sum with missing values will return NA:"
   ]
  },
  {
   "cell_type": "code",
   "execution_count": 19,
   "metadata": {
    "collapsed": false
   },
   "outputs": [
    {
     "data": {
      "text/html": [
       "&lt;NA&gt;"
      ],
      "text/latex": [
       "<NA>"
      ],
      "text/markdown": [
       "&lt;NA&gt;"
      ],
      "text/plain": [
       "[1] NA"
      ]
     },
     "execution_count": 19,
     "metadata": {
     },
     "output_type": "execute_result"
    }
   ],
   "source": [
    "sum(3, 4, NA)"
   ]
  },
  {
   "cell_type": "markdown",
   "metadata": {
    "collapsed": false
   },
   "source": [
    "Even though we do not see the argument here, it is operating in the background, as the NA value remains. 3 + 4 + NA is NA.\n",
    "\n",
    "But setting the argument na.rm to TRUE will remove the NA:"
   ]
  },
  {
   "cell_type": "code",
   "execution_count": 20,
   "metadata": {
    "collapsed": false
   },
   "outputs": [
    {
     "data": {
      "text/html": [
       "7"
      ],
      "text/latex": [
       "7"
      ],
      "text/markdown": [
       "7"
      ],
      "text/plain": [
       "[1] 7"
      ]
     },
     "execution_count": 20,
     "metadata": {
     },
     "output_type": "execute_result"
    }
   ],
   "source": [
    "sum(3, 4, NA, na.rm = TRUE)"
   ]
  },
  {
   "cell_type": "markdown",
   "metadata": {
    "collapsed": false
   },
   "source": [
    "It is very important to understand the different arguments that functions take, the values that can be added to those functions, and the default arguments. Arguments can be anything, not only TRUE or FALSE, but also other objects. Exactly what each argument means differs per function, and must be looked up in the documentation.\n",
    "\n",
    "It’s good practice to put the non-optional arguments first in your function call, and to specify the names of all optional arguments. If you don’t, someone reading your code might have to look up the definition of a function with unfamiliar arguments to understand what you’re doing."
   ]
  },
  {
   "cell_type": "markdown",
   "metadata": {
    "collapsed": false
   },
   "source": [
    "## Vectors\n",
    "\n",
    "A vector is the most common and basic data type in R, and is pretty much the workhorse of R. A vector is a sequence of elements of the same type. Vectors can only contain “homogenous” data–in other words, all data must be of the same type. The type of a vector determines what kind of analysis you can do on it. For example, you can perform mathematical operations on numeric objects, but not on character objects.\n",
    "\n",
    "We can assign a series of values to a vector using the c() function. c() stands for combine. If you read the help files for c() by calling help(c), you can see that it takes an unlimited . . . number of arguments.\n",
    "\n",
    "For example we can create a vector of checkouts for a collection of books and assign it to a new object checkouts:"
   ]
  },
  {
   "cell_type": "code",
   "execution_count": 21,
   "metadata": {
    "collapsed": false
   },
   "outputs": [
    {
     "data": {
      "text/html": [
       "<style>\n",
       ".list-inline {list-style: none; margin:0; padding: 0}\n",
       ".list-inline>li {display: inline-block}\n",
       ".list-inline>li:not(:last-child)::after {content: \"\\00b7\"; padding: 0 .5ex}\n",
       "</style>\n",
       "<ol class=list-inline><li>25</li><li>15</li><li>18</li></ol>\n"
      ],
      "text/latex": [
       "\\begin{enumerate*}\n",
       "\\item 25\n",
       "\\item 15\n",
       "\\item 18\n",
       "\\end{enumerate*}\n"
      ],
      "text/markdown": [
       "1. 25\n",
       "2. 15\n",
       "3. 18\n",
       "\n",
       "\n"
      ],
      "text/plain": [
       "[1] 25 15 18"
      ]
     },
     "execution_count": 21,
     "metadata": {
     },
     "output_type": "execute_result"
    }
   ],
   "source": [
    "checkouts <- c(25, 15, 18)\n",
    "checkouts"
   ]
  },
  {
   "cell_type": "markdown",
   "metadata": {
    "collapsed": false
   },
   "source": [
    "A vector can also contain characters. For example, we can have a vector of the book titles (title) and authors (author):"
   ]
  },
  {
   "cell_type": "code",
   "execution_count": 22,
   "metadata": {
    "collapsed": false
   },
   "outputs": [
   ],
   "source": [
    "title <- c(\"Macbeth\",\"Dracula\",\"1984\")"
   ]
  },
  {
   "cell_type": "markdown",
   "metadata": {
    "collapsed": false
   },
   "source": [
    "The quotes around “Macbeth”, etc. are essential here. Without the quotes R will assume there are objects called Macbeth and Dracula in the environment. As these objects don’t yet exist in R’s memory, there will be an error message.\n",
    "\n",
    "There are many functions that allow you to inspect the content of a vector. length() tells you how many elements are in a particular vector:"
   ]
  },
  {
   "cell_type": "code",
   "execution_count": 23,
   "metadata": {
    "collapsed": false
   },
   "outputs": [
    {
     "data": {
      "text/html": [
       "3"
      ],
      "text/latex": [
       "3"
      ],
      "text/markdown": [
       "3"
      ],
      "text/plain": [
       "[1] 3"
      ]
     },
     "execution_count": 23,
     "metadata": {
     },
     "output_type": "execute_result"
    }
   ],
   "source": [
    "length(checkouts)  # print the number of values in the checkouts vector"
   ]
  },
  {
   "cell_type": "markdown",
   "metadata": {
    "collapsed": false
   },
   "source": [
    "An important feature of a vector, is that all of the elements are the same type of data. The function class() indicates the class (the type of element) of an object:"
   ]
  },
  {
   "cell_type": "code",
   "execution_count": 24,
   "metadata": {
    "collapsed": false
   },
   "outputs": [
    {
     "data": {
      "text/html": [
       "'numeric'"
      ],
      "text/latex": [
       "'numeric'"
      ],
      "text/markdown": [
       "'numeric'"
      ],
      "text/plain": [
       "[1] \"numeric\""
      ]
     },
     "execution_count": 24,
     "metadata": {
     },
     "output_type": "execute_result"
    },
    {
     "data": {
      "text/html": [
       "'character'"
      ],
      "text/latex": [
       "'character'"
      ],
      "text/markdown": [
       "'character'"
      ],
      "text/plain": [
       "[1] \"character\""
      ]
     },
     "execution_count": 24,
     "metadata": {
     },
     "output_type": "execute_result"
    }
   ],
   "source": [
    "class(checkouts)\n",
    "class(title)"
   ]
  },
  {
   "cell_type": "markdown",
   "metadata": {
    "collapsed": false
   },
   "source": [
    "Type ?str into the console to read the description of the str function. You can call str() on an R object to compactly display information about it, including the data type, the number of elements, and a printout of the first few elements."
   ]
  },
  {
   "cell_type": "code",
   "execution_count": 25,
   "metadata": {
    "collapsed": false
   },
   "outputs": [
    {
     "name": "stdout",
     "output_type": "stream",
     "text": [
      " num [1:3] 25 15 18\n"
     ]
    },
    {
     "name": "stdout",
     "output_type": "stream",
     "text": [
      " chr [1:3] \"Macbeth\" \"Dracula\" \"1984\"\n"
     ]
    }
   ],
   "source": [
    "str(checkouts)\n",
    "str(title)"
   ]
  },
  {
   "cell_type": "markdown",
   "metadata": {
    "collapsed": false
   },
   "source": [
    "You can use the c() function to add other elements to your vector:"
   ]
  },
  {
   "cell_type": "code",
   "execution_count": 26,
   "metadata": {
    "collapsed": false
   },
   "outputs": [
    {
     "data": {
      "text/html": [
       "<style>\n",
       ".list-inline {list-style: none; margin:0; padding: 0}\n",
       ".list-inline>li {display: inline-block}\n",
       ".list-inline>li:not(:last-child)::after {content: \"\\00b7\"; padding: 0 .5ex}\n",
       "</style>\n",
       "<ol class=list-inline><li>'Shakespeare'</li><li>'Stoker'</li><li>'Orwell'</li></ol>\n"
      ],
      "text/latex": [
       "\\begin{enumerate*}\n",
       "\\item 'Shakespeare'\n",
       "\\item 'Stoker'\n",
       "\\item 'Orwell'\n",
       "\\end{enumerate*}\n"
      ],
      "text/markdown": [
       "1. 'Shakespeare'\n",
       "2. 'Stoker'\n",
       "3. 'Orwell'\n",
       "\n",
       "\n"
      ],
      "text/plain": [
       "[1] \"Shakespeare\" \"Stoker\"      \"Orwell\"     "
      ]
     },
     "execution_count": 26,
     "metadata": {
     },
     "output_type": "execute_result"
    }
   ],
   "source": [
    "author <- \"Stoker\"\n",
    "author <- c(author, \"Orwell\") # add to the end of the vector\n",
    "author <- c(\"Shakespeare\", author)\n",
    "author"
   ]
  },
  {
   "cell_type": "markdown",
   "metadata": {
    "collapsed": false
   },
   "source": [
    "In the first line, we create a character vector author with a single value \"Stoker\". In the second line, we add the value \"Orwell\" to it, and save the result back into author. Then we add the value \"Shakespeare\" to the beginning, again saving the result back into author.\n",
    "\n",
    "We can do this over and over again to grow a vector, or assemble a dataset. As we program, this may be useful to add results that we are collecting or calculating.\n",
    "\n",
    "Use this to open a tab in the Script Pane (upper left) to view your data. This is helpful if you have a very long vector you need to browse.\n",
    "\n",
    "An **atomic vector** is the simplest R data type and is a linear vector of a single type. Above, we saw 2 of the 6 main atomic vector types that R uses: \"character\" and \"numeric\" (or \"double\"). These are the basic building blocks that all R objects are built from. The other 4 atomic vector types are:\n",
    "\n",
    "- \"logical\" for TRUE and FALSE (the boolean data type)\n",
    "- \"integer\" for integer numbers (e.g., 2L, the L indicates to R that it’s an integer)\n",
    "- \"complex\" to represent complex numbers with real and imaginary parts (e.g., 1 + 4i) and that’s all we’re going to say about them\n",
    "- \"raw\" for bitstreams that we won’t discuss further\n",
    "\n",
    "\n",
    "You can check the type of your vector using the typeof() function and inputting your vector as the argument.\n",
    "\n",
    "Vectors are one of the many data structures that R uses. Other important ones are lists (list), matrices (matrix), data frames (data.frame), factors (factor) and arrays (array)."
   ]
  },
  {
   "cell_type": "markdown",
   "metadata": {
    "collapsed": false
   },
   "source": [
    "#### Exercise 2.3\n"
   ]
  },
  {
   "cell_type": "code",
   "execution_count": 27,
   "metadata": {
    "collapsed": false
   },
   "outputs": [
   ],
   "source": [
    "#Exercise 2.3"
   ]
  },
  {
   "cell_type": "markdown",
   "metadata": {
    "collapsed": false
   },
   "source": [
    "You’ve probably noticed that objects of different types get converted into a single, shared type within a vector. In R, we call converting objects from one class into another class coercion. These conversions happen according to a hierarchy, whereby some types get preferentially coerced into other types. This hierarchy is: logical < integer < numeric < complex < character < list.\n",
    "\n",
    "You can also coerce a vector to be a specific data type with as.character(), as.logical(), as.numeric, etc. For example, to coerce a number to a character:"
   ]
  },
  {
   "cell_type": "code",
   "execution_count": 28,
   "metadata": {
    "collapsed": false
   },
   "outputs": [
    {
     "data": {
      "text/html": [
       "'200'"
      ],
      "text/latex": [
       "'200'"
      ],
      "text/markdown": [
       "'200'"
      ],
      "text/plain": [
       "[1] \"200\""
      ]
     },
     "execution_count": 28,
     "metadata": {
     },
     "output_type": "execute_result"
    }
   ],
   "source": [
    "x <- as.character(200)\n",
    "x"
   ]
  },
  {
   "cell_type": "markdown",
   "metadata": {
    "collapsed": false
   },
   "source": [
    "We can also call class()"
   ]
  },
  {
   "cell_type": "code",
   "execution_count": 29,
   "metadata": {
    "collapsed": false
   },
   "outputs": [
    {
     "data": {
      "text/html": [
       "'character'"
      ],
      "text/latex": [
       "'character'"
      ],
      "text/markdown": [
       "'character'"
      ],
      "text/plain": [
       "[1] \"character\""
      ]
     },
     "execution_count": 29,
     "metadata": {
     },
     "output_type": "execute_result"
    }
   ],
   "source": [
    "class(x)"
   ]
  },
  {
   "cell_type": "markdown",
   "metadata": {
    "collapsed": false
   },
   "source": [
    "> NOTE : if we try to add a number to x, we will get an error message non-numeric argument to binary operator–in other words, x is non-numeric and cannot be added to a number."
   ]
  },
  {
   "cell_type": "markdown",
   "metadata": {
    "collapsed": false
   },
   "source": [
    "## Removing Objects from the environment\n",
    "\n",
    "To remove an object from your R environment, use the rm() function. Remove multiple objects with rm(list = c(\"add\", \"objects\", \"here)), adding the objects in c() using quotation marks. To remove all objects, use rm(list = ls()) or click the broom icon in the Environment Pane, next to “Import Dataset.”"
   ]
  },
  {
   "cell_type": "code",
   "execution_count": 31,
   "metadata": {
    "collapsed": false
   },
   "outputs": [
    {
     "data": {
      "text/html": [
      ],
      "text/latex": [
      ],
      "text/markdown": [
      ],
      "text/plain": [
       "character(0)"
      ]
     },
     "execution_count": 31,
     "metadata": {
     },
     "output_type": "execute_result"
    }
   ],
   "source": [
    "x <- 5\n",
    "y <- 10\n",
    "z <- 15\n",
    "rm(x)  # remove x\n",
    "rm(list =c(\"y\", \"z\"))  # remove y and z\n",
    "rm(list = ls())  # remove all objects"
   ]
  }
 ],
 "metadata": {
  "kernelspec": {
   "display_name": "R (system-wide)",
   "language": "r",
   "metadata": {
    "cocalc": {
     "description": "R statistical programming language",
     "priority": 10,
     "url": "https://www.r-project.org/"
    }
   },
   "name": "ir",
   "resource_dir": "/ext/jupyter/kernels/ir"
  },
  "language_info": {
   "codemirror_mode": "r",
   "file_extension": ".r",
   "mimetype": "text/x-r-source",
   "name": "R",
   "pygments_lexer": "r",
   "version": "4.0.5"
  }
 },
 "nbformat": 4,
 "nbformat_minor": 4
}